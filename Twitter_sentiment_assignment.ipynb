{
 "cells": [
  {
   "cell_type": "code",
   "execution_count": 1,
   "metadata": {
    "ExecuteTime": {
     "end_time": "2021-01-28T05:15:52.355035Z",
     "start_time": "2021-01-28T05:15:29.756348Z"
    }
   },
   "outputs": [
    {
     "name": "stdout",
     "output_type": "stream",
     "text": [
      "Requirement already satisfied: tweepy in c:\\users\\admin\\anaconda3\\lib\\site-packages (3.10.0)\n",
      "Requirement already satisfied: requests[socks]>=2.11.1 in c:\\users\\admin\\anaconda3\\lib\\site-packages (from tweepy) (2.24.0)\n",
      "Requirement already satisfied: requests-oauthlib>=0.7.0 in c:\\users\\admin\\anaconda3\\lib\\site-packages (from tweepy) (1.3.0)\n",
      "Requirement already satisfied: six>=1.10.0 in c:\\users\\admin\\anaconda3\\lib\\site-packages (from tweepy) (1.15.0)\n",
      "Requirement already satisfied: certifi>=2017.4.17 in c:\\users\\admin\\anaconda3\\lib\\site-packages (from requests[socks]>=2.11.1->tweepy) (2020.6.20)\n",
      "Requirement already satisfied: idna<3,>=2.5 in c:\\users\\admin\\anaconda3\\lib\\site-packages (from requests[socks]>=2.11.1->tweepy) (2.10)\n",
      "Requirement already satisfied: chardet<4,>=3.0.2 in c:\\users\\admin\\anaconda3\\lib\\site-packages (from requests[socks]>=2.11.1->tweepy) (3.0.4)\n",
      "Requirement already satisfied: urllib3!=1.25.0,!=1.25.1,<1.26,>=1.21.1 in c:\\users\\admin\\anaconda3\\lib\\site-packages (from requests[socks]>=2.11.1->tweepy) (1.25.9)\n",
      "Requirement already satisfied: PySocks!=1.5.7,>=1.5.6; extra == \"socks\" in c:\\users\\admin\\anaconda3\\lib\\site-packages (from requests[socks]>=2.11.1->tweepy) (1.7.1)\n",
      "Requirement already satisfied: oauthlib>=3.0.0 in c:\\users\\admin\\anaconda3\\lib\\site-packages (from requests-oauthlib>=0.7.0->tweepy) (3.1.0)\n",
      "Note: you may need to restart the kernel to use updated packages.\n"
     ]
    }
   ],
   "source": [
    "pip install tweepy  #installing tweepy library to access twitter API"
   ]
  },
  {
   "cell_type": "code",
   "execution_count": 2,
   "metadata": {
    "ExecuteTime": {
     "end_time": "2021-01-28T05:18:51.046839Z",
     "start_time": "2021-01-28T05:18:51.027834Z"
    }
   },
   "outputs": [],
   "source": [
    "# -*- coding: utf-8 -*-"
   ]
  },
  {
   "cell_type": "code",
   "execution_count": 3,
   "metadata": {
    "ExecuteTime": {
     "end_time": "2021-01-28T05:19:00.152087Z",
     "start_time": "2021-01-28T05:18:54.956331Z"
    }
   },
   "outputs": [
    {
     "name": "stdout",
     "output_type": "stream",
     "text": [
      "Requirement already satisfied: credentials in c:\\users\\admin\\anaconda3\\lib\\site-packages (1.1)\n",
      "Note: you may need to restart the kernel to use updated packages.\n"
     ]
    }
   ],
   "source": [
    "pip install credentials        # installing credentials library to access twitter API"
   ]
  },
  {
   "cell_type": "code",
   "execution_count": 4,
   "metadata": {
    "ExecuteTime": {
     "end_time": "2021-01-28T05:19:12.915659Z",
     "start_time": "2021-01-28T05:19:03.583241Z"
    }
   },
   "outputs": [],
   "source": [
    "import pandas as pd           #importing required libraries\n",
    "import tweepy             "
   ]
  },
  {
   "cell_type": "markdown",
   "metadata": {},
   "source": [
    "witter API credentials"
   ]
  },
  {
   "cell_type": "code",
   "execution_count": 5,
   "metadata": {
    "ExecuteTime": {
     "end_time": "2021-01-28T05:19:21.114560Z",
     "start_time": "2021-01-28T05:19:21.095572Z"
    }
   },
   "outputs": [],
   "source": [
    "consumer_key = \"ZmJB7gpGF6xJQc8MmnPz0meni\"\n",
    "consumer_secret = \"1hFA2EjXXGA6LQ9LAwXcKPrs11AyGxN78P7jnTvTHK5ZEAXcGf\"\n",
    "access_key = \"1304283478335262727-d7s4n2tcTeggmILpMwmJLWsbqpTAiC\"\n",
    "access_secret = \"cUvjZ7WyBkQgxpDg1IbZ2SWZED19F4jtmwqZyqfDmIHyX\""
   ]
  },
  {
   "cell_type": "code",
   "execution_count": 6,
   "metadata": {
    "ExecuteTime": {
     "end_time": "2021-01-28T05:19:23.735579Z",
     "start_time": "2021-01-28T05:19:23.728581Z"
    }
   },
   "outputs": [],
   "source": [
    "alltweets = []"
   ]
  },
  {
   "cell_type": "code",
   "execution_count": 7,
   "metadata": {
    "ExecuteTime": {
     "end_time": "2021-01-28T05:19:27.396869Z",
     "start_time": "2021-01-28T05:19:27.355898Z"
    }
   },
   "outputs": [],
   "source": [
    "def get_all_tweets(imVkohli):                                #accessing and obtaining required twitter account's data\n",
    "    auth = tweepy.OAuthHandler(consumer_key,consumer_secret)\n",
    "    auth.set_access_token(access_key, access_secret)\n",
    "    api = tweepy.API(auth)\n",
    "    new_tweets = api.user_timeline(screen_name = imVkohli,count=200)\n",
    "    alltweets.extend(new_tweets)\n",
    "    \n",
    "    oldest = alltweets[-1].id - 1\n",
    "    while len(new_tweets)>0:\n",
    "        new_tweets = api.user_timeline(screen_name = imVkohli,count=200,max_id=oldest)\n",
    "        #save most recent tweets\n",
    "        alltweets.extend(new_tweets)\n",
    "        #update the id of the oldest tweet less one\n",
    "        oldest = alltweets[-1].id - 1\n",
    "        print (\"...%s tweets downloaded so far\" % (len(alltweets)))                # tweet.get('user', {}).get('location', {})\n",
    " \n",
    "    outtweets = [[tweet.created_at,tweet.entities[\"hashtags\"],tweet.entities[\"user_mentions\"],tweet.favorite_count,\n",
    "                  tweet.geo,tweet.id_str,tweet.lang,tweet.place,tweet.retweet_count,tweet.retweeted,tweet.source,tweet.text,\n",
    "                  tweet._json[\"user\"][\"location\"],tweet._json[\"user\"][\"name\"],tweet._json[\"user\"][\"time_zone\"],\n",
    "                  tweet._json[\"user\"][\"utc_offset\"]] for tweet in alltweets]\n",
    "    \n",
    "    import pandas as pd\n",
    "    tweets_df = pd.DataFrame(columns = [\"time\",\"hashtags\",\"user_mentions\",\"favorite_count\",\n",
    "                                    \"geo\",\"id_str\",\"lang\",\"place\",\"retweet_count\",\"retweeted\",\"source\",\n",
    "                                    \"text\",\"location\",\"name\",\"time_zone\",\"utc_offset\"])\n",
    "    tweets_df[\"time\"]  = pd.Series([str(i[0]) for i in outtweets])\n",
    "    tweets_df[\"hashtags\"] = pd.Series([str(i[1]) for i in outtweets])\n",
    "    tweets_df[\"user_mentions\"] = pd.Series([str(i[2]) for i in outtweets])\n",
    "    tweets_df[\"favorite_count\"] = pd.Series([str(i[3]) for i in outtweets])\n",
    "    tweets_df[\"geo\"] = pd.Series([str(i[4]) for i in outtweets])\n",
    "    tweets_df[\"id_str\"] = pd.Series([str(i[5]) for i in outtweets])\n",
    "    tweets_df[\"lang\"] = pd.Series([str(i[6]) for i in outtweets])\n",
    "    tweets_df[\"place\"] = pd.Series([str(i[7]) for i in outtweets])\n",
    "    tweets_df[\"retweet_count\"] = pd.Series([str(i[8]) for i in outtweets])\n",
    "    tweets_df[\"retweeted\"] = pd.Series([str(i[9]) for i in outtweets])\n",
    "    tweets_df[\"source\"] = pd.Series([str(i[10]) for i in outtweets])\n",
    "    tweets_df[\"text\"] = pd.Series([str(i[11]) for i in outtweets])\n",
    "    tweets_df[\"location\"] = pd.Series([str(i[12]) for i in outtweets])\n",
    "    tweets_df[\"name\"] = pd.Series([str(i[13]) for i in outtweets])\n",
    "    tweets_df[\"time_zone\"] = pd.Series([str(i[14]) for i in outtweets])\n",
    "    tweets_df[\"utc_offset\"] = pd.Series([str(i[15]) for i in outtweets])\n",
    "    tweets_df.to_csv(imVkohli+\"_tweets.csv\")\n",
    "    return tweets_df"
   ]
  },
  {
   "cell_type": "code",
   "execution_count": 8,
   "metadata": {
    "ExecuteTime": {
     "end_time": "2021-01-28T05:20:02.419430Z",
     "start_time": "2021-01-28T05:19:32.422930Z"
    }
   },
   "outputs": [
    {
     "name": "stdout",
     "output_type": "stream",
     "text": [
      "...400 tweets downloaded so far\n",
      "...600 tweets downloaded so far\n",
      "...800 tweets downloaded so far\n",
      "...1000 tweets downloaded so far\n",
      "...1200 tweets downloaded so far\n",
      "...1400 tweets downloaded so far\n",
      "...1600 tweets downloaded so far\n",
      "...1800 tweets downloaded so far\n",
      "...2000 tweets downloaded so far\n",
      "...2200 tweets downloaded so far\n",
      "...2332 tweets downloaded so far\n",
      "...2332 tweets downloaded so far\n"
     ]
    }
   ],
   "source": [
    "kohli= get_all_tweets(\"imVkohli\")      #downloading all the tweets from selected twitter account"
   ]
  },
  {
   "cell_type": "code",
   "execution_count": 9,
   "metadata": {
    "ExecuteTime": {
     "end_time": "2021-01-28T05:20:07.873441Z",
     "start_time": "2021-01-28T05:20:07.648709Z"
    }
   },
   "outputs": [
    {
     "data": {
      "text/html": [
       "<div>\n",
       "<style scoped>\n",
       "    .dataframe tbody tr th:only-of-type {\n",
       "        vertical-align: middle;\n",
       "    }\n",
       "\n",
       "    .dataframe tbody tr th {\n",
       "        vertical-align: top;\n",
       "    }\n",
       "\n",
       "    .dataframe thead th {\n",
       "        text-align: right;\n",
       "    }\n",
       "</style>\n",
       "<table border=\"1\" class=\"dataframe\">\n",
       "  <thead>\n",
       "    <tr style=\"text-align: right;\">\n",
       "      <th></th>\n",
       "      <th>time</th>\n",
       "      <th>hashtags</th>\n",
       "      <th>user_mentions</th>\n",
       "      <th>favorite_count</th>\n",
       "      <th>geo</th>\n",
       "      <th>id_str</th>\n",
       "      <th>lang</th>\n",
       "      <th>place</th>\n",
       "      <th>retweet_count</th>\n",
       "      <th>retweeted</th>\n",
       "      <th>source</th>\n",
       "      <th>text</th>\n",
       "      <th>location</th>\n",
       "      <th>name</th>\n",
       "      <th>time_zone</th>\n",
       "      <th>utc_offset</th>\n",
       "    </tr>\n",
       "  </thead>\n",
       "  <tbody>\n",
       "    <tr>\n",
       "      <th>0</th>\n",
       "      <td>2021-01-26 04:58:01</td>\n",
       "      <td>[]</td>\n",
       "      <td>[]</td>\n",
       "      <td>174424</td>\n",
       "      <td>None</td>\n",
       "      <td>1353930169791115264</td>\n",
       "      <td>en</td>\n",
       "      <td>None</td>\n",
       "      <td>9816</td>\n",
       "      <td>False</td>\n",
       "      <td>Twitter for Android</td>\n",
       "      <td>The future depends on what we do today. Let's ...</td>\n",
       "      <td></td>\n",
       "      <td>Virat Kohli</td>\n",
       "      <td>None</td>\n",
       "      <td>None</td>\n",
       "    </tr>\n",
       "    <tr>\n",
       "      <th>1</th>\n",
       "      <td>2021-01-25 05:08:17</td>\n",
       "      <td>[]</td>\n",
       "      <td>[{'screen_name': 'MarcBartra', 'name': 'Marc B...</td>\n",
       "      <td>66462</td>\n",
       "      <td>None</td>\n",
       "      <td>1353570362282270721</td>\n",
       "      <td>en</td>\n",
       "      <td>None</td>\n",
       "      <td>2943</td>\n",
       "      <td>False</td>\n",
       "      <td>Twitter for Android</td>\n",
       "      <td>Teamed up with @MarcBartra @officialasafa @pum...</td>\n",
       "      <td></td>\n",
       "      <td>Virat Kohli</td>\n",
       "      <td>None</td>\n",
       "      <td>None</td>\n",
       "    </tr>\n",
       "    <tr>\n",
       "      <th>2</th>\n",
       "      <td>2021-01-25 04:03:45</td>\n",
       "      <td>[]</td>\n",
       "      <td>[{'screen_name': 'cheteshwar1', 'name': 'chete...</td>\n",
       "      <td>179218</td>\n",
       "      <td>None</td>\n",
       "      <td>1353554122817953792</td>\n",
       "      <td>en</td>\n",
       "      <td>None</td>\n",
       "      <td>8427</td>\n",
       "      <td>False</td>\n",
       "      <td>Twitter for Android</td>\n",
       "      <td>Happy birthday pujji @cheteshwar1.  Wish you g...</td>\n",
       "      <td></td>\n",
       "      <td>Virat Kohli</td>\n",
       "      <td>None</td>\n",
       "      <td>None</td>\n",
       "    </tr>\n",
       "    <tr>\n",
       "      <th>3</th>\n",
       "      <td>2021-01-24 05:07:28</td>\n",
       "      <td>[]</td>\n",
       "      <td>[]</td>\n",
       "      <td>30720</td>\n",
       "      <td>None</td>\n",
       "      <td>1353207771647275010</td>\n",
       "      <td>en</td>\n",
       "      <td>None</td>\n",
       "      <td>1767</td>\n",
       "      <td>False</td>\n",
       "      <td>Twitter for Android</td>\n",
       "      <td>We do everything online today. Why not footbal...</td>\n",
       "      <td></td>\n",
       "      <td>Virat Kohli</td>\n",
       "      <td>None</td>\n",
       "      <td>None</td>\n",
       "    </tr>\n",
       "    <tr>\n",
       "      <th>4</th>\n",
       "      <td>2021-01-23 05:03:21</td>\n",
       "      <td>[{'text': 'one8blends', 'indices': [0, 11]}]</td>\n",
       "      <td>[{'screen_name': 'one8world', 'name': 'one8', ...</td>\n",
       "      <td>39025</td>\n",
       "      <td>None</td>\n",
       "      <td>1352844347809681409</td>\n",
       "      <td>en</td>\n",
       "      <td>None</td>\n",
       "      <td>2013</td>\n",
       "      <td>False</td>\n",
       "      <td>Twitter for Android</td>\n",
       "      <td>#one8blends - Your secret to confidence. 👍\\nGe...</td>\n",
       "      <td></td>\n",
       "      <td>Virat Kohli</td>\n",
       "      <td>None</td>\n",
       "      <td>None</td>\n",
       "    </tr>\n",
       "    <tr>\n",
       "      <th>...</th>\n",
       "      <td>...</td>\n",
       "      <td>...</td>\n",
       "      <td>...</td>\n",
       "      <td>...</td>\n",
       "      <td>...</td>\n",
       "      <td>...</td>\n",
       "      <td>...</td>\n",
       "      <td>...</td>\n",
       "      <td>...</td>\n",
       "      <td>...</td>\n",
       "      <td>...</td>\n",
       "      <td>...</td>\n",
       "      <td>...</td>\n",
       "      <td>...</td>\n",
       "      <td>...</td>\n",
       "      <td>...</td>\n",
       "    </tr>\n",
       "    <tr>\n",
       "      <th>2327</th>\n",
       "      <td>2009-09-22 09:44:31</td>\n",
       "      <td>[]</td>\n",
       "      <td>[{'screen_name': 'yuvsingh09', 'name': 'Yuvraj...</td>\n",
       "      <td>63</td>\n",
       "      <td>None</td>\n",
       "      <td>4168829709</td>\n",
       "      <td>en</td>\n",
       "      <td>None</td>\n",
       "      <td>14</td>\n",
       "      <td>False</td>\n",
       "      <td>Twitter Web Client</td>\n",
       "      <td>@yuvsingh09 Hello Mr.Bond \\nwatched it you wer...</td>\n",
       "      <td></td>\n",
       "      <td>Virat Kohli</td>\n",
       "      <td>None</td>\n",
       "      <td>None</td>\n",
       "    </tr>\n",
       "    <tr>\n",
       "      <th>2328</th>\n",
       "      <td>2009-09-22 08:46:33</td>\n",
       "      <td>[]</td>\n",
       "      <td>[{'screen_name': 'hulk7174', 'name': 'Anol Pro...</td>\n",
       "      <td>43</td>\n",
       "      <td>None</td>\n",
       "      <td>4168263153</td>\n",
       "      <td>und</td>\n",
       "      <td>None</td>\n",
       "      <td>9</td>\n",
       "      <td>False</td>\n",
       "      <td>Twitter Web Client</td>\n",
       "      <td>@hulk7174 ??????</td>\n",
       "      <td></td>\n",
       "      <td>Virat Kohli</td>\n",
       "      <td>None</td>\n",
       "      <td>None</td>\n",
       "    </tr>\n",
       "    <tr>\n",
       "      <th>2329</th>\n",
       "      <td>2009-09-22 07:32:46</td>\n",
       "      <td>[]</td>\n",
       "      <td>[]</td>\n",
       "      <td>122</td>\n",
       "      <td>None</td>\n",
       "      <td>4167514786</td>\n",
       "      <td>en</td>\n",
       "      <td>None</td>\n",
       "      <td>53</td>\n",
       "      <td>False</td>\n",
       "      <td>Twitter Web Client</td>\n",
       "      <td>Time for Training....</td>\n",
       "      <td></td>\n",
       "      <td>Virat Kohli</td>\n",
       "      <td>None</td>\n",
       "      <td>None</td>\n",
       "    </tr>\n",
       "    <tr>\n",
       "      <th>2330</th>\n",
       "      <td>2009-09-10 15:36:10</td>\n",
       "      <td>[]</td>\n",
       "      <td>[]</td>\n",
       "      <td>122</td>\n",
       "      <td>None</td>\n",
       "      <td>3889494504</td>\n",
       "      <td>en</td>\n",
       "      <td>None</td>\n",
       "      <td>61</td>\n",
       "      <td>False</td>\n",
       "      <td>Twitter Web Client</td>\n",
       "      <td>Will be heading to SriLanka Woohoo !!!</td>\n",
       "      <td></td>\n",
       "      <td>Virat Kohli</td>\n",
       "      <td>None</td>\n",
       "      <td>None</td>\n",
       "    </tr>\n",
       "    <tr>\n",
       "      <th>2331</th>\n",
       "      <td>2009-09-04 10:31:36</td>\n",
       "      <td>[]</td>\n",
       "      <td>[{'screen_name': 'yuvsingh09', 'name': 'Yuvraj...</td>\n",
       "      <td>241</td>\n",
       "      <td>None</td>\n",
       "      <td>3754340192</td>\n",
       "      <td>en</td>\n",
       "      <td>None</td>\n",
       "      <td>165</td>\n",
       "      <td>False</td>\n",
       "      <td>Twitter Web Client</td>\n",
       "      <td>@yuvsingh09 Aiieeeeeee me too me too</td>\n",
       "      <td></td>\n",
       "      <td>Virat Kohli</td>\n",
       "      <td>None</td>\n",
       "      <td>None</td>\n",
       "    </tr>\n",
       "  </tbody>\n",
       "</table>\n",
       "<p>2332 rows × 16 columns</p>\n",
       "</div>"
      ],
      "text/plain": [
       "                     time                                      hashtags  \\\n",
       "0     2021-01-26 04:58:01                                            []   \n",
       "1     2021-01-25 05:08:17                                            []   \n",
       "2     2021-01-25 04:03:45                                            []   \n",
       "3     2021-01-24 05:07:28                                            []   \n",
       "4     2021-01-23 05:03:21  [{'text': 'one8blends', 'indices': [0, 11]}]   \n",
       "...                   ...                                           ...   \n",
       "2327  2009-09-22 09:44:31                                            []   \n",
       "2328  2009-09-22 08:46:33                                            []   \n",
       "2329  2009-09-22 07:32:46                                            []   \n",
       "2330  2009-09-10 15:36:10                                            []   \n",
       "2331  2009-09-04 10:31:36                                            []   \n",
       "\n",
       "                                          user_mentions favorite_count   geo  \\\n",
       "0                                                    []         174424  None   \n",
       "1     [{'screen_name': 'MarcBartra', 'name': 'Marc B...          66462  None   \n",
       "2     [{'screen_name': 'cheteshwar1', 'name': 'chete...         179218  None   \n",
       "3                                                    []          30720  None   \n",
       "4     [{'screen_name': 'one8world', 'name': 'one8', ...          39025  None   \n",
       "...                                                 ...            ...   ...   \n",
       "2327  [{'screen_name': 'yuvsingh09', 'name': 'Yuvraj...             63  None   \n",
       "2328  [{'screen_name': 'hulk7174', 'name': 'Anol Pro...             43  None   \n",
       "2329                                                 []            122  None   \n",
       "2330                                                 []            122  None   \n",
       "2331  [{'screen_name': 'yuvsingh09', 'name': 'Yuvraj...            241  None   \n",
       "\n",
       "                   id_str lang place retweet_count retweeted  \\\n",
       "0     1353930169791115264   en  None          9816     False   \n",
       "1     1353570362282270721   en  None          2943     False   \n",
       "2     1353554122817953792   en  None          8427     False   \n",
       "3     1353207771647275010   en  None          1767     False   \n",
       "4     1352844347809681409   en  None          2013     False   \n",
       "...                   ...  ...   ...           ...       ...   \n",
       "2327           4168829709   en  None            14     False   \n",
       "2328           4168263153  und  None             9     False   \n",
       "2329           4167514786   en  None            53     False   \n",
       "2330           3889494504   en  None            61     False   \n",
       "2331           3754340192   en  None           165     False   \n",
       "\n",
       "                   source                                               text  \\\n",
       "0     Twitter for Android  The future depends on what we do today. Let's ...   \n",
       "1     Twitter for Android  Teamed up with @MarcBartra @officialasafa @pum...   \n",
       "2     Twitter for Android  Happy birthday pujji @cheteshwar1.  Wish you g...   \n",
       "3     Twitter for Android  We do everything online today. Why not footbal...   \n",
       "4     Twitter for Android  #one8blends - Your secret to confidence. 👍\\nGe...   \n",
       "...                   ...                                                ...   \n",
       "2327   Twitter Web Client  @yuvsingh09 Hello Mr.Bond \\nwatched it you wer...   \n",
       "2328   Twitter Web Client                                   @hulk7174 ??????   \n",
       "2329   Twitter Web Client                              Time for Training....   \n",
       "2330   Twitter Web Client             Will be heading to SriLanka Woohoo !!!   \n",
       "2331   Twitter Web Client               @yuvsingh09 Aiieeeeeee me too me too   \n",
       "\n",
       "     location         name time_zone utc_offset  \n",
       "0              Virat Kohli      None       None  \n",
       "1              Virat Kohli      None       None  \n",
       "2              Virat Kohli      None       None  \n",
       "3              Virat Kohli      None       None  \n",
       "4              Virat Kohli      None       None  \n",
       "...       ...          ...       ...        ...  \n",
       "2327           Virat Kohli      None       None  \n",
       "2328           Virat Kohli      None       None  \n",
       "2329           Virat Kohli      None       None  \n",
       "2330           Virat Kohli      None       None  \n",
       "2331           Virat Kohli      None       None  \n",
       "\n",
       "[2332 rows x 16 columns]"
      ]
     },
     "execution_count": 9,
     "metadata": {},
     "output_type": "execute_result"
    }
   ],
   "source": [
    "kohli"
   ]
  },
  {
   "cell_type": "code",
   "execution_count": 10,
   "metadata": {
    "ExecuteTime": {
     "end_time": "2021-01-28T05:20:19.147850Z",
     "start_time": "2021-01-28T05:20:13.845163Z"
    }
   },
   "outputs": [
    {
     "name": "stdout",
     "output_type": "stream",
     "text": [
      "Requirement already satisfied: spacy in c:\\users\\admin\\anaconda3\\lib\\site-packages (2.3.5)\n",
      "Requirement already satisfied: setuptools in c:\\users\\admin\\anaconda3\\lib\\site-packages (from spacy) (49.2.0.post20200714)\n",
      "Requirement already satisfied: tqdm<5.0.0,>=4.38.0 in c:\\users\\admin\\anaconda3\\lib\\site-packages (from spacy) (4.56.0)\n",
      "Requirement already satisfied: thinc<7.5.0,>=7.4.1 in c:\\users\\admin\\anaconda3\\lib\\site-packages (from spacy) (7.4.5)\n",
      "Requirement already satisfied: cymem<2.1.0,>=2.0.2 in c:\\users\\admin\\anaconda3\\lib\\site-packages (from spacy) (2.0.5)\n",
      "Requirement already satisfied: plac<1.2.0,>=0.9.6 in c:\\users\\admin\\anaconda3\\lib\\site-packages (from spacy) (1.1.3)\n",
      "Requirement already satisfied: murmurhash<1.1.0,>=0.28.0 in c:\\users\\admin\\anaconda3\\lib\\site-packages (from spacy) (1.0.5)\n",
      "Requirement already satisfied: catalogue<1.1.0,>=0.0.7 in c:\\users\\admin\\anaconda3\\lib\\site-packages (from spacy) (1.0.0)\n",
      "Requirement already satisfied: numpy>=1.15.0 in c:\\users\\admin\\anaconda3\\lib\\site-packages (from spacy) (1.18.5)\n",
      "Requirement already satisfied: srsly<1.1.0,>=1.0.2 in c:\\users\\admin\\anaconda3\\lib\\site-packages (from spacy) (1.0.5)\n",
      "Requirement already satisfied: requests<3.0.0,>=2.13.0 in c:\\users\\admin\\anaconda3\\lib\\site-packages (from spacy) (2.24.0)\n",
      "Requirement already satisfied: wasabi<1.1.0,>=0.4.0 in c:\\users\\admin\\anaconda3\\lib\\site-packages (from spacy) (0.8.0)\n",
      "Requirement already satisfied: blis<0.8.0,>=0.4.0 in c:\\users\\admin\\anaconda3\\lib\\site-packages (from spacy) (0.7.4)\n",
      "Requirement already satisfied: preshed<3.1.0,>=3.0.2 in c:\\users\\admin\\anaconda3\\lib\\site-packages (from spacy) (3.0.5)\n",
      "Requirement already satisfied: certifi>=2017.4.17 in c:\\users\\admin\\anaconda3\\lib\\site-packages (from requests<3.0.0,>=2.13.0->spacy) (2020.6.20)\n",
      "Requirement already satisfied: idna<3,>=2.5 in c:\\users\\admin\\anaconda3\\lib\\site-packages (from requests<3.0.0,>=2.13.0->spacy) (2.10)\n",
      "Requirement already satisfied: urllib3!=1.25.0,!=1.25.1,<1.26,>=1.21.1 in c:\\users\\admin\\anaconda3\\lib\\site-packages (from requests<3.0.0,>=2.13.0->spacy) (1.25.9)\n",
      "Requirement already satisfied: chardet<4,>=3.0.2 in c:\\users\\admin\\anaconda3\\lib\\site-packages (from requests<3.0.0,>=2.13.0->spacy) (3.0.4)\n",
      "Note: you may need to restart the kernel to use updated packages.\n"
     ]
    }
   ],
   "source": [
    "pip install spacy       #installing spacy library for natural languge processing"
   ]
  },
  {
   "cell_type": "code",
   "execution_count": 11,
   "metadata": {
    "ExecuteTime": {
     "end_time": "2021-01-28T05:20:31.622697Z",
     "start_time": "2021-01-28T05:20:26.413846Z"
    }
   },
   "outputs": [
    {
     "name": "stdout",
     "output_type": "stream",
     "text": [
      "Requirement already satisfied: wordcloud in c:\\users\\admin\\anaconda3\\lib\\site-packages (1.8.1)Note: you may need to restart the kernel to use updated packages.\n",
      "Requirement already satisfied: pillow in c:\\users\\admin\\anaconda3\\lib\\site-packages (from wordcloud) (7.2.0)\n",
      "Requirement already satisfied: matplotlib in c:\\users\\admin\\anaconda3\\lib\\site-packages (from wordcloud) (3.2.2)\n",
      "\n",
      "Requirement already satisfied: numpy>=1.6.1 in c:\\users\\admin\\anaconda3\\lib\\site-packages (from wordcloud) (1.18.5)\n",
      "Requirement already satisfied: cycler>=0.10 in c:\\users\\admin\\anaconda3\\lib\\site-packages (from matplotlib->wordcloud) (0.10.0)\n",
      "Requirement already satisfied: python-dateutil>=2.1 in c:\\users\\admin\\anaconda3\\lib\\site-packages (from matplotlib->wordcloud) (2.8.1)\n",
      "Requirement already satisfied: pyparsing!=2.0.4,!=2.1.2,!=2.1.6,>=2.0.1 in c:\\users\\admin\\anaconda3\\lib\\site-packages (from matplotlib->wordcloud) (2.4.7)\n",
      "Requirement already satisfied: kiwisolver>=1.0.1 in c:\\users\\admin\\anaconda3\\lib\\site-packages (from matplotlib->wordcloud) (1.2.0)\n",
      "Requirement already satisfied: six in c:\\users\\admin\\anaconda3\\lib\\site-packages (from cycler>=0.10->matplotlib->wordcloud) (1.15.0)\n"
     ]
    }
   ],
   "source": [
    "pip install wordcloud  #installing wordcloud library for visual representation of text data"
   ]
  },
  {
   "cell_type": "code",
   "execution_count": 12,
   "metadata": {
    "ExecuteTime": {
     "end_time": "2021-01-28T05:21:23.670013Z",
     "start_time": "2021-01-28T05:21:15.071116Z"
    }
   },
   "outputs": [],
   "source": [
    "import numpy as np             #import all the required libraries\n",
    "import pandas as pd\n",
    "import string\n",
    "import spacy\n",
    "from matplotlib.pyplot import imread\n",
    "from matplotlib import pyplot as plt\n",
    "from wordcloud import WordCloud\n",
    "%matplotlib inline"
   ]
  },
  {
   "cell_type": "code",
   "execution_count": 13,
   "metadata": {
    "ExecuteTime": {
     "end_time": "2021-01-28T05:21:27.877335Z",
     "start_time": "2021-01-28T05:21:27.771752Z"
    }
   },
   "outputs": [],
   "source": [
    "kohli.drop(['hashtags'],inplace=True,axis=1)          #drop the cloumns that is not required to perform NLP\n",
    "kohli.drop(['user_mentions'],inplace=True,axis=1)\n",
    "kohli.drop(['favorite_count'],inplace=True,axis=1)\n",
    "kohli.drop(['geo'],inplace=True,axis=1)\n",
    "kohli.drop(['id_str'],inplace=True,axis=1)\n",
    "kohli.drop(['lang'],inplace=True,axis=1)\n",
    "kohli.drop(['place'],inplace=True,axis=1)\n",
    "kohli.drop(['retweet_count'],inplace=True,axis=1)\n",
    "kohli.drop(['retweeted'],inplace=True,axis=1)\n",
    "kohli.drop(['source'],inplace=True,axis=1)\n",
    "kohli.drop(['location'],inplace=True,axis=1)\n",
    "kohli.drop(['name'],inplace=True,axis=1)\n",
    "kohli.drop(['time_zone'],inplace=True,axis=1)\n",
    "kohli.drop(['utc_offset'],inplace=True,axis=1)"
   ]
  },
  {
   "cell_type": "code",
   "execution_count": 14,
   "metadata": {
    "ExecuteTime": {
     "end_time": "2021-01-28T05:21:31.482080Z",
     "start_time": "2021-01-28T05:21:31.452093Z"
    }
   },
   "outputs": [
    {
     "data": {
      "text/html": [
       "<div>\n",
       "<style scoped>\n",
       "    .dataframe tbody tr th:only-of-type {\n",
       "        vertical-align: middle;\n",
       "    }\n",
       "\n",
       "    .dataframe tbody tr th {\n",
       "        vertical-align: top;\n",
       "    }\n",
       "\n",
       "    .dataframe thead th {\n",
       "        text-align: right;\n",
       "    }\n",
       "</style>\n",
       "<table border=\"1\" class=\"dataframe\">\n",
       "  <thead>\n",
       "    <tr style=\"text-align: right;\">\n",
       "      <th></th>\n",
       "      <th>time</th>\n",
       "      <th>text</th>\n",
       "    </tr>\n",
       "  </thead>\n",
       "  <tbody>\n",
       "    <tr>\n",
       "      <th>0</th>\n",
       "      <td>2021-01-26 04:58:01</td>\n",
       "      <td>The future depends on what we do today. Let's ...</td>\n",
       "    </tr>\n",
       "    <tr>\n",
       "      <th>1</th>\n",
       "      <td>2021-01-25 05:08:17</td>\n",
       "      <td>Teamed up with @MarcBartra @officialasafa @pum...</td>\n",
       "    </tr>\n",
       "    <tr>\n",
       "      <th>2</th>\n",
       "      <td>2021-01-25 04:03:45</td>\n",
       "      <td>Happy birthday pujji @cheteshwar1.  Wish you g...</td>\n",
       "    </tr>\n",
       "    <tr>\n",
       "      <th>3</th>\n",
       "      <td>2021-01-24 05:07:28</td>\n",
       "      <td>We do everything online today. Why not footbal...</td>\n",
       "    </tr>\n",
       "    <tr>\n",
       "      <th>4</th>\n",
       "      <td>2021-01-23 05:03:21</td>\n",
       "      <td>#one8blends - Your secret to confidence. 👍\\nGe...</td>\n",
       "    </tr>\n",
       "    <tr>\n",
       "      <th>...</th>\n",
       "      <td>...</td>\n",
       "      <td>...</td>\n",
       "    </tr>\n",
       "    <tr>\n",
       "      <th>2327</th>\n",
       "      <td>2009-09-22 09:44:31</td>\n",
       "      <td>@yuvsingh09 Hello Mr.Bond \\nwatched it you wer...</td>\n",
       "    </tr>\n",
       "    <tr>\n",
       "      <th>2328</th>\n",
       "      <td>2009-09-22 08:46:33</td>\n",
       "      <td>@hulk7174 ??????</td>\n",
       "    </tr>\n",
       "    <tr>\n",
       "      <th>2329</th>\n",
       "      <td>2009-09-22 07:32:46</td>\n",
       "      <td>Time for Training....</td>\n",
       "    </tr>\n",
       "    <tr>\n",
       "      <th>2330</th>\n",
       "      <td>2009-09-10 15:36:10</td>\n",
       "      <td>Will be heading to SriLanka Woohoo !!!</td>\n",
       "    </tr>\n",
       "    <tr>\n",
       "      <th>2331</th>\n",
       "      <td>2009-09-04 10:31:36</td>\n",
       "      <td>@yuvsingh09 Aiieeeeeee me too me too</td>\n",
       "    </tr>\n",
       "  </tbody>\n",
       "</table>\n",
       "<p>2332 rows × 2 columns</p>\n",
       "</div>"
      ],
      "text/plain": [
       "                     time                                               text\n",
       "0     2021-01-26 04:58:01  The future depends on what we do today. Let's ...\n",
       "1     2021-01-25 05:08:17  Teamed up with @MarcBartra @officialasafa @pum...\n",
       "2     2021-01-25 04:03:45  Happy birthday pujji @cheteshwar1.  Wish you g...\n",
       "3     2021-01-24 05:07:28  We do everything online today. Why not footbal...\n",
       "4     2021-01-23 05:03:21  #one8blends - Your secret to confidence. 👍\\nGe...\n",
       "...                   ...                                                ...\n",
       "2327  2009-09-22 09:44:31  @yuvsingh09 Hello Mr.Bond \\nwatched it you wer...\n",
       "2328  2009-09-22 08:46:33                                   @hulk7174 ??????\n",
       "2329  2009-09-22 07:32:46                              Time for Training....\n",
       "2330  2009-09-10 15:36:10             Will be heading to SriLanka Woohoo !!!\n",
       "2331  2009-09-04 10:31:36               @yuvsingh09 Aiieeeeeee me too me too\n",
       "\n",
       "[2332 rows x 2 columns]"
      ]
     },
     "execution_count": 14,
     "metadata": {},
     "output_type": "execute_result"
    }
   ],
   "source": [
    "kohli"
   ]
  },
  {
   "cell_type": "code",
   "execution_count": 15,
   "metadata": {
    "ExecuteTime": {
     "end_time": "2021-01-28T05:21:35.373480Z",
     "start_time": "2021-01-28T05:21:35.349338Z"
    }
   },
   "outputs": [],
   "source": [
    "kohli.drop(['time'],inplace=True,axis=1)"
   ]
  },
  {
   "cell_type": "code",
   "execution_count": 16,
   "metadata": {
    "ExecuteTime": {
     "end_time": "2021-01-28T05:21:39.007338Z",
     "start_time": "2021-01-28T05:21:38.988364Z"
    }
   },
   "outputs": [
    {
     "data": {
      "text/html": [
       "<div>\n",
       "<style scoped>\n",
       "    .dataframe tbody tr th:only-of-type {\n",
       "        vertical-align: middle;\n",
       "    }\n",
       "\n",
       "    .dataframe tbody tr th {\n",
       "        vertical-align: top;\n",
       "    }\n",
       "\n",
       "    .dataframe thead th {\n",
       "        text-align: right;\n",
       "    }\n",
       "</style>\n",
       "<table border=\"1\" class=\"dataframe\">\n",
       "  <thead>\n",
       "    <tr style=\"text-align: right;\">\n",
       "      <th></th>\n",
       "      <th>text</th>\n",
       "    </tr>\n",
       "  </thead>\n",
       "  <tbody>\n",
       "    <tr>\n",
       "      <th>0</th>\n",
       "      <td>The future depends on what we do today. Let's ...</td>\n",
       "    </tr>\n",
       "    <tr>\n",
       "      <th>1</th>\n",
       "      <td>Teamed up with @MarcBartra @officialasafa @pum...</td>\n",
       "    </tr>\n",
       "    <tr>\n",
       "      <th>2</th>\n",
       "      <td>Happy birthday pujji @cheteshwar1.  Wish you g...</td>\n",
       "    </tr>\n",
       "    <tr>\n",
       "      <th>3</th>\n",
       "      <td>We do everything online today. Why not footbal...</td>\n",
       "    </tr>\n",
       "    <tr>\n",
       "      <th>4</th>\n",
       "      <td>#one8blends - Your secret to confidence. 👍\\nGe...</td>\n",
       "    </tr>\n",
       "    <tr>\n",
       "      <th>...</th>\n",
       "      <td>...</td>\n",
       "    </tr>\n",
       "    <tr>\n",
       "      <th>2327</th>\n",
       "      <td>@yuvsingh09 Hello Mr.Bond \\nwatched it you wer...</td>\n",
       "    </tr>\n",
       "    <tr>\n",
       "      <th>2328</th>\n",
       "      <td>@hulk7174 ??????</td>\n",
       "    </tr>\n",
       "    <tr>\n",
       "      <th>2329</th>\n",
       "      <td>Time for Training....</td>\n",
       "    </tr>\n",
       "    <tr>\n",
       "      <th>2330</th>\n",
       "      <td>Will be heading to SriLanka Woohoo !!!</td>\n",
       "    </tr>\n",
       "    <tr>\n",
       "      <th>2331</th>\n",
       "      <td>@yuvsingh09 Aiieeeeeee me too me too</td>\n",
       "    </tr>\n",
       "  </tbody>\n",
       "</table>\n",
       "<p>2332 rows × 1 columns</p>\n",
       "</div>"
      ],
      "text/plain": [
       "                                                   text\n",
       "0     The future depends on what we do today. Let's ...\n",
       "1     Teamed up with @MarcBartra @officialasafa @pum...\n",
       "2     Happy birthday pujji @cheteshwar1.  Wish you g...\n",
       "3     We do everything online today. Why not footbal...\n",
       "4     #one8blends - Your secret to confidence. 👍\\nGe...\n",
       "...                                                 ...\n",
       "2327  @yuvsingh09 Hello Mr.Bond \\nwatched it you wer...\n",
       "2328                                   @hulk7174 ??????\n",
       "2329                              Time for Training....\n",
       "2330             Will be heading to SriLanka Woohoo !!!\n",
       "2331               @yuvsingh09 Aiieeeeeee me too me too\n",
       "\n",
       "[2332 rows x 1 columns]"
      ]
     },
     "execution_count": 16,
     "metadata": {},
     "output_type": "execute_result"
    }
   ],
   "source": [
    "kohli"
   ]
  },
  {
   "cell_type": "code",
   "execution_count": 17,
   "metadata": {
    "ExecuteTime": {
     "end_time": "2021-01-28T05:21:53.500556Z",
     "start_time": "2021-01-28T05:21:43.013945Z"
    },
    "scrolled": true
   },
   "outputs": [
    {
     "name": "stdout",
     "output_type": "stream",
     "text": [
      "Requirement already satisfied: en_core_web_sm==2.3.1 from https://github.com/explosion/spacy-models/releases/download/en_core_web_sm-2.3.1/en_core_web_sm-2.3.1.tar.gz#egg=en_core_web_sm==2.3.1 in c:\\users\\admin\\anaconda3\\lib\\site-packages (2.3.1)\n",
      "Requirement already satisfied: spacy<2.4.0,>=2.3.0 in c:\\users\\admin\\anaconda3\\lib\\site-packages (from en_core_web_sm==2.3.1) (2.3.5)\n",
      "Requirement already satisfied: thinc<7.5.0,>=7.4.1 in c:\\users\\admin\\anaconda3\\lib\\site-packages (from spacy<2.4.0,>=2.3.0->en_core_web_sm==2.3.1) (7.4.5)\n",
      "Requirement already satisfied: preshed<3.1.0,>=3.0.2 in c:\\users\\admin\\anaconda3\\lib\\site-packages (from spacy<2.4.0,>=2.3.0->en_core_web_sm==2.3.1) (3.0.5)\n",
      "Requirement already satisfied: setuptools in c:\\users\\admin\\anaconda3\\lib\\site-packages (from spacy<2.4.0,>=2.3.0->en_core_web_sm==2.3.1) (49.2.0.post20200714)\n",
      "Requirement already satisfied: numpy>=1.15.0 in c:\\users\\admin\\anaconda3\\lib\\site-packages (from spacy<2.4.0,>=2.3.0->en_core_web_sm==2.3.1) (1.18.5)\n",
      "Requirement already satisfied: murmurhash<1.1.0,>=0.28.0 in c:\\users\\admin\\anaconda3\\lib\\site-packages (from spacy<2.4.0,>=2.3.0->en_core_web_sm==2.3.1) (1.0.5)\n",
      "Requirement already satisfied: srsly<1.1.0,>=1.0.2 in c:\\users\\admin\\anaconda3\\lib\\site-packages (from spacy<2.4.0,>=2.3.0->en_core_web_sm==2.3.1) (1.0.5)\n",
      "Requirement already satisfied: tqdm<5.0.0,>=4.38.0 in c:\\users\\admin\\anaconda3\\lib\\site-packages (from spacy<2.4.0,>=2.3.0->en_core_web_sm==2.3.1) (4.56.0)\n",
      "Requirement already satisfied: requests<3.0.0,>=2.13.0 in c:\\users\\admin\\anaconda3\\lib\\site-packages (from spacy<2.4.0,>=2.3.0->en_core_web_sm==2.3.1) (2.24.0)\n",
      "Requirement already satisfied: cymem<2.1.0,>=2.0.2 in c:\\users\\admin\\anaconda3\\lib\\site-packages (from spacy<2.4.0,>=2.3.0->en_core_web_sm==2.3.1) (2.0.5)\n",
      "Requirement already satisfied: blis<0.8.0,>=0.4.0 in c:\\users\\admin\\anaconda3\\lib\\site-packages (from spacy<2.4.0,>=2.3.0->en_core_web_sm==2.3.1) (0.7.4)\n",
      "Requirement already satisfied: wasabi<1.1.0,>=0.4.0 in c:\\users\\admin\\anaconda3\\lib\\site-packages (from spacy<2.4.0,>=2.3.0->en_core_web_sm==2.3.1) (0.8.0)\n",
      "Requirement already satisfied: catalogue<1.1.0,>=0.0.7 in c:\\users\\admin\\anaconda3\\lib\\site-packages (from spacy<2.4.0,>=2.3.0->en_core_web_sm==2.3.1) (1.0.0)\n",
      "Requirement already satisfied: plac<1.2.0,>=0.9.6 in c:\\users\\admin\\anaconda3\\lib\\site-packages (from spacy<2.4.0,>=2.3.0->en_core_web_sm==2.3.1) (1.1.3)\n",
      "Requirement already satisfied: chardet<4,>=3.0.2 in c:\\users\\admin\\anaconda3\\lib\\site-packages (from requests<3.0.0,>=2.13.0->spacy<2.4.0,>=2.3.0->en_core_web_sm==2.3.1) (3.0.4)\n",
      "Requirement already satisfied: certifi>=2017.4.17 in c:\\users\\admin\\anaconda3\\lib\\site-packages (from requests<3.0.0,>=2.13.0->spacy<2.4.0,>=2.3.0->en_core_web_sm==2.3.1) (2020.6.20)\n",
      "Requirement already satisfied: urllib3!=1.25.0,!=1.25.1,<1.26,>=1.21.1 in c:\\users\\admin\\anaconda3\\lib\\site-packages (from requests<3.0.0,>=2.13.0->spacy<2.4.0,>=2.3.0->en_core_web_sm==2.3.1) (1.25.9)\n",
      "Requirement already satisfied: idna<3,>=2.5 in c:\\users\\admin\\anaconda3\\lib\\site-packages (from requests<3.0.0,>=2.13.0->spacy<2.4.0,>=2.3.0->en_core_web_sm==2.3.1) (2.10)\n",
      "[+] Download and installation successful\n",
      "You can now load the model via spacy.load('en_core_web_sm')\n"
     ]
    }
   ],
   "source": [
    "!python -m spacy download en_core_web_sm"
   ]
  },
  {
   "cell_type": "code",
   "execution_count": 18,
   "metadata": {
    "ExecuteTime": {
     "end_time": "2021-01-28T05:23:14.291145Z",
     "start_time": "2021-01-28T05:23:14.270179Z"
    }
   },
   "outputs": [
    {
     "data": {
      "text/plain": [
       "[\"The future depends on what we do today. Let's be the strength of our nation and help it reach greater heights. Wish… https://t.co/myYv4wT9xZ\",\n",
       " 'Teamed up with @MarcBartra @officialasafa @pumacricket to test these new kicks. Light shoes, heavy work. @PUMA Fuse… https://t.co/rlOOD1nktl',\n",
       " 'Happy birthday pujji @cheteshwar1.  Wish you good health, happiness and more hours at the crease 😃. Have a great year ahead.',\n",
       " 'We do everything online today. Why not football? Sports &amp; learning should always continue, especially for children.… https://t.co/Vyyzeku3qC',\n",
       " '#one8blends - Your secret to confidence. 👍\\nGet yours from the link below.\\n\\nhttps://t.co/HTFOWXdC09\\n\\n@one8world… https://t.co/YK0BbmyyUz',\n",
       " '#100MillionHeroes 👏🏼 @HeroMotoCorp https://t.co/QK6IIVdki2',\n",
       " 'WHAT A WIN!!! Yessssss. To everyone who doubted us after Adelaide, stand up and take notice. Exemplary performance… https://t.co/pz5JhDgamH',\n",
       " '@ThePropheC is at a whole different level altogether and Sardool Saab 🙏🏼👏🏼\\n\\nhttps://t.co/gv3h99ZjF7',\n",
       " 'Outstanding application and belief by @Sundarwashi5 and @imShard. This is what test cricket is all about. Washy top… https://t.co/qpVrsJgpVf',\n",
       " \"Heartbroken to hear about the demise of Hardik and Krunal's dad. Spoke to him a couple of times, looked a joyful an… https://t.co/CQNzbSobUr\",\n",
       " '♥️ https://t.co/js3SkZJTsH',\n",
       " 'The incident needs to be looked at with absolute urgency and seriousness and strict action against the offenders sh… https://t.co/N4YVk4nfKC',\n",
       " 'Racial abuse is absolutely unacceptable. Having gone through many incidents of really pathetic things said on the b… https://t.co/kQASx8FnoP',\n",
       " 'Get the perfect boost of confidence with #one8fragrances\\nCheck them out now! https://t.co/2xNh3SiVK4\\n@one8world… https://t.co/zZPpqoj0w9',\n",
       " 'Happy Birthday @therealkapildev 🎂. Wishing you happy times ahead for you and your family. Have a wonderful and a healthy year ahead.',\n",
       " '✌️😁 https://t.co/4aX9KYZjjv',\n",
       " 'Praying for your speedy recovery. Get well soon 🙏 @SGanguly99',\n",
       " 'Friends who test negative together spend positive time together! ☺️ Nothing like a get together at home with friend… https://t.co/eTsnPUtG74',\n",
       " \"What a win this is, absolutely amazing effort by the whole team. Couldn't be happier for the boys and specially Jin… https://t.co/Oi53Lpb49K\",\n",
       " 'https://t.co/auzv5pMiqf https://t.co/MWNXEdupZ6',\n",
       " 'Another great day for us. Proper test cricket at its best. Absolutely top knock from Jinks👌@ajinkyarahane88',\n",
       " 'Top day 1 for us. Great display from the bowlers and a solid finish too. 🇮🇳👏',\n",
       " 'Wishing each and everyone a very Merry Christmas. 🎄⭐😀',\n",
       " 'Excited to be back playing Test cricket 🇮🇳🏏  Looking forward to a competitive game 💪💪 https://t.co/Mm5FU8ISsB',\n",
       " 'Guys, the @myntra End Of Reason Sale starts on 20th Dec. 😎 Hit the link below and wishlist your favourite Wrogn sty… https://t.co/EvwOuk2FfQ',\n",
       " '3 years and onto a lifetime together ❤️ https://t.co/a30gdU87vS',\n",
       " 'Don’t let a hectic lifestyle get the better of you. One Wellman tablet a day = Perfect formula for your nutritional… https://t.co/8ZwBzfNn5S',\n",
       " 'Tough outing but remarkable fighting spirit shown by the boys 💪. On to the tests now 🇮🇳. https://t.co/d9v6EACpc0',\n",
       " 'It’s all about the process. Intensify your training with those quick and explosive movements 💥\\nCop the #one8 LQDCEL… https://t.co/fn9E27gjoF',\n",
       " 'Amazing game of cricket. Well done boys 🙌 https://t.co/IUqiiXNTkj',\n",
       " 'On to Sydney 👍🏻. https://t.co/jRkH6SM4LY',\n",
       " 'Kick things 🆙 a notch with the #one8 Smash. \\nCop the timeless trainer on https://t.co/aTY0dEecCS \\nCollection link h… https://t.co/xncnF2VTCd',\n",
       " 'Proud of this team. 🇮🇳 We march forward. On to the T20s 💪 https://t.co/kDFutw1B3R',\n",
       " 'Haha good skills mate. Maybe we can get you in as a counter attacking batsman😃👏 @HKane https://t.co/rYjmVUkdwO',\n",
       " 'On to the next one. https://t.co/kCqkvR6EU8',\n",
       " 'Remembering the innocent lives we lost and our bravehearts who saved many during the 26/11 attacks. You will always… https://t.co/TNsSJYPy0A',\n",
       " 'RIP Diego Maradona. He changed the way the beautiful game of football is played. True genius.',\n",
       " \"Guys, it's finally here 🙌. Visit my Instagram profile and scroll over to the filters tab to try out my new AR filte… https://t.co/Gfa8Y6GaWj\",\n",
       " 'Winter has come, and so have comfy winter wear styles from Wrogn! 😎 \\n\\nSnag your winter wear from @StayWrogn on… https://t.co/QNUP6nPZ2g',\n",
       " 'Many happy returns of the day @navdeepsaini96. 🎂 Wishing you success and a wonderful year ahead.',\n",
       " 'I’m back on the field doing what I do best. Rebounding just like millions of other Indians 🇮🇳 . This is my story. C… https://t.co/UNbFGIQC2C',\n",
       " \"Wishing @FCGoaOfficial all the best for today's match and for the season ahead. #ForcaGoa #RiseAgain\",\n",
       " 'Fuel Up ⛽ https://t.co/5cNb1G8gd5',\n",
       " 'Designed for men who mean business.😎 The no gas range by #one8fragrances. Get them from https://t.co/HTFOWXvcRH… https://t.co/qfatYo3ds5',\n",
       " 'Conquer the world one step at a time with Casual Footwear from Wrogn 👍 @myntra\\nVisit the link below to check out th… https://t.co/Ui8Da8k3Tk',\n",
       " 'Love test cricket practice sessions ❤️💙 https://t.co/XPNad3YapF',\n",
       " 'Quarantine diaries. Un-ironed T-shirt, comfortable couch and a good series to watch. 👌 https://t.co/Yr26mHYCOL',\n",
       " 'A real hero never stops protecting oneself, so that others stay protected.💪 Choose Vize to stay safe and unbeaten.… https://t.co/EqLoKpDKv2',\n",
       " 'Happy Diwali 🙏🏻 https://t.co/USLnZnMwzT',\n",
       " 'I want to extend a warm welcoming hand to @FCGoaOfficial, who today have joined hands with @RBLeipzig_EN as the clu… https://t.co/S1tyOAgjSE']"
      ]
     },
     "execution_count": 18,
     "metadata": {},
     "output_type": "execute_result"
    }
   ],
   "source": [
    "kohli = [text.strip() for text in kohli.text] # remove both the leading and the trailing characters\n",
    "kohli = [text for text in kohli if text] # removes empty strings, because they are considered in Python as False\n",
    "kohli[0:50] "
   ]
  },
  {
   "cell_type": "code",
   "execution_count": 19,
   "metadata": {
    "ExecuteTime": {
     "end_time": "2021-01-28T05:23:26.103848Z",
     "start_time": "2021-01-28T05:23:22.221189Z"
    }
   },
   "outputs": [],
   "source": [
    "nlp = spacy.load('en_core_web_sm')   #parts of speech tagging\n"
   ]
  },
  {
   "cell_type": "code",
   "execution_count": 51,
   "metadata": {
    "ExecuteTime": {
     "end_time": "2021-01-28T05:56:41.488118Z",
     "start_time": "2021-01-28T05:56:41.424102Z"
    }
   },
   "outputs": [
    {
     "name": "stderr",
     "output_type": "stream",
     "text": [
      "C:\\Users\\ADMIN\\anaconda3\\lib\\site-packages\\spacy\\displacy\\__init__.py:189: UserWarning: [W006] No entities to visualize found in Doc object. If this is surprising to you, make sure the Doc was processed using a model that supports named entity recognition, and check the `doc.ents` property manually if necessary.\n",
      "  warnings.warn(Warnings.W006)\n"
     ]
    },
    {
     "data": {
      "text/html": [
       "<span class=\"tex2jax_ignore\"><div class=\"entities\" style=\"line-height: 2.5; direction: ltr\">Wishing the champion bowler and an amazing human being @harbhajan_singh a very happy birthday. Keep inspiring and H… https://t.co/DsQZKmDTm1</div></span>"
      ],
      "text/plain": [
       "<IPython.core.display.HTML object>"
      ]
     },
     "metadata": {},
     "output_type": "display_data"
    }
   ],
   "source": [
    "one_block=kohli[800]                    #selecting tweet of choice to visualize using spacy\n",
    "doc_block=nlp(one_block)\n",
    "spacy.displacy.render(doc_block,style='ent',jupyter=True)"
   ]
  },
  {
   "cell_type": "code",
   "execution_count": 52,
   "metadata": {
    "ExecuteTime": {
     "end_time": "2021-01-28T05:56:47.142810Z",
     "start_time": "2021-01-28T05:56:47.127291Z"
    }
   },
   "outputs": [
    {
     "data": {
      "text/plain": [
       "'Wishing the champion bowler and an amazing human being @harbhajan_singh a very happy birthday. Keep inspiring and H… https://t.co/DsQZKmDTm1'"
      ]
     },
     "execution_count": 52,
     "metadata": {},
     "output_type": "execute_result"
    }
   ],
   "source": [
    "one_block"
   ]
  },
  {
   "cell_type": "code",
   "execution_count": 53,
   "metadata": {
    "ExecuteTime": {
     "end_time": "2021-01-28T05:57:01.666163Z",
     "start_time": "2021-01-28T05:57:01.650158Z"
    }
   },
   "outputs": [
    {
     "name": "stdout",
     "output_type": "stream",
     "text": [
      "Wishing VERB\n",
      "the DET\n",
      "champion NOUN\n",
      "bowler NOUN\n",
      "and CCONJ\n",
      "an DET\n",
      "amazing ADJ\n",
      "human ADJ\n",
      "being NOUN\n",
      "@harbhajan_singh NOUN\n",
      "a DET\n",
      "very ADV\n",
      "happy ADJ\n",
      "birthday NOUN\n",
      ". PUNCT\n",
      "Keep VERB\n",
      "inspiring VERB\n",
      "and CCONJ\n",
      "H NOUN\n",
      "… PUNCT\n",
      "https://t.co/DsQZKmDTm1 NOUN\n"
     ]
    }
   ],
   "source": [
    "for token in doc_block[0:50]:          #tokenization of selected tweet to know parts of speech \n",
    "    print(token,token.pos_)\n"
   ]
  },
  {
   "cell_type": "code",
   "execution_count": 54,
   "metadata": {
    "ExecuteTime": {
     "end_time": "2021-01-28T05:57:08.226890Z",
     "start_time": "2021-01-28T05:57:08.203619Z"
    }
   },
   "outputs": [
    {
     "name": "stdout",
     "output_type": "stream",
     "text": [
      "['Wishing', 'champion', 'bowler', 'being', '@harbhajan_singh', 'birthday', 'Keep', 'inspiring', 'H', 'https://t.co/DsQZKmDTm1']\n"
     ]
    }
   ],
   "source": [
    "noun_verbs=[token.text for token in doc_block if token.pos_ in('NOUN','VERB')]\n",
    "print(noun_verbs[0:40])           #extraction of noun and verbs in selected tweet"
   ]
  },
  {
   "cell_type": "code",
   "execution_count": 55,
   "metadata": {
    "ExecuteTime": {
     "end_time": "2021-01-28T05:57:13.907396Z",
     "start_time": "2021-01-28T05:57:13.875399Z"
    }
   },
   "outputs": [
    {
     "data": {
      "text/html": [
       "<div>\n",
       "<style scoped>\n",
       "    .dataframe tbody tr th:only-of-type {\n",
       "        vertical-align: middle;\n",
       "    }\n",
       "\n",
       "    .dataframe tbody tr th {\n",
       "        vertical-align: top;\n",
       "    }\n",
       "\n",
       "    .dataframe thead th {\n",
       "        text-align: right;\n",
       "    }\n",
       "</style>\n",
       "<table border=\"1\" class=\"dataframe\">\n",
       "  <thead>\n",
       "    <tr style=\"text-align: right;\">\n",
       "      <th></th>\n",
       "      <th>word</th>\n",
       "      <th>count</th>\n",
       "    </tr>\n",
       "  </thead>\n",
       "  <tbody>\n",
       "    <tr>\n",
       "      <th>0</th>\n",
       "      <td>wishing</td>\n",
       "      <td>1</td>\n",
       "    </tr>\n",
       "    <tr>\n",
       "      <th>1</th>\n",
       "      <td>champion</td>\n",
       "      <td>1</td>\n",
       "    </tr>\n",
       "    <tr>\n",
       "      <th>2</th>\n",
       "      <td>bowler</td>\n",
       "      <td>1</td>\n",
       "    </tr>\n",
       "    <tr>\n",
       "      <th>3</th>\n",
       "      <td>being</td>\n",
       "      <td>1</td>\n",
       "    </tr>\n",
       "    <tr>\n",
       "      <th>4</th>\n",
       "      <td>harbhajan_singh</td>\n",
       "      <td>1</td>\n",
       "    </tr>\n",
       "    <tr>\n",
       "      <th>5</th>\n",
       "      <td>birthday</td>\n",
       "      <td>1</td>\n",
       "    </tr>\n",
       "    <tr>\n",
       "      <th>6</th>\n",
       "      <td>keep</td>\n",
       "      <td>1</td>\n",
       "    </tr>\n",
       "    <tr>\n",
       "      <th>7</th>\n",
       "      <td>inspiring</td>\n",
       "      <td>1</td>\n",
       "    </tr>\n",
       "    <tr>\n",
       "      <th>8</th>\n",
       "      <td>https</td>\n",
       "      <td>1</td>\n",
       "    </tr>\n",
       "    <tr>\n",
       "      <th>9</th>\n",
       "      <td>co</td>\n",
       "      <td>1</td>\n",
       "    </tr>\n",
       "    <tr>\n",
       "      <th>10</th>\n",
       "      <td>dsqzkmdtm1</td>\n",
       "      <td>1</td>\n",
       "    </tr>\n",
       "  </tbody>\n",
       "</table>\n",
       "</div>"
      ],
      "text/plain": [
       "               word  count\n",
       "0           wishing      1\n",
       "1          champion      1\n",
       "2            bowler      1\n",
       "3             being      1\n",
       "4   harbhajan_singh      1\n",
       "5          birthday      1\n",
       "6              keep      1\n",
       "7         inspiring      1\n",
       "8             https      1\n",
       "9                co      1\n",
       "10       dsqzkmdtm1      1"
      ]
     },
     "execution_count": 55,
     "metadata": {},
     "output_type": "execute_result"
    }
   ],
   "source": [
    "from sklearn.feature_extraction.text import CountVectorizer    #counting of tokens i.e words\n",
    "cv=CountVectorizer()\n",
    "\n",
    "text=cv.fit_transform(noun_verbs)\n",
    "sum_words=text.sum(axis=0)\n",
    "words_freq=[(word,sum_words[0,idx])for word,idx in cv.vocabulary_.items()]\n",
    "words_freq=sorted(words_freq,key=lambda x:x[1],reverse=True)\n",
    "wf_df=pd.DataFrame(words_freq)\n",
    "wf_df.columns=['word','count']\n",
    "\n",
    "wf_df[0:30]"
   ]
  },
  {
   "cell_type": "code",
   "execution_count": 58,
   "metadata": {
    "ExecuteTime": {
     "end_time": "2021-01-28T06:01:29.748756Z",
     "start_time": "2021-01-28T06:01:28.049486Z"
    }
   },
   "outputs": [
    {
     "data": {
      "text/plain": [
       "<matplotlib.axes._subplots.AxesSubplot at 0x22bbd6556d0>"
      ]
     },
     "execution_count": 58,
     "metadata": {},
     "output_type": "execute_result"
    },
    {
     "data": {
      "image/png": "[encoded data removed]",
      "text/plain": [
       "<Figure size 864x576 with 1 Axes>"
      ]
     },
     "metadata": {
      "needs_background": "light"
     },
     "output_type": "display_data"
    }
   ],
   "source": [
    "wf_df[0:30].plot.bar(x='word', figsize=(12,8),title='Top verbs and nouns')  #visualization of nouns and verbs in selected tweet"
   ]
  },
  {
   "cell_type": "code",
   "execution_count": 59,
   "metadata": {
    "ExecuteTime": {
     "end_time": "2021-01-28T06:03:05.657610Z",
     "start_time": "2021-01-28T06:03:05.464947Z"
    }
   },
   "outputs": [
    {
     "data": {
      "text/plain": [
       "(2477, 2)"
      ]
     },
     "execution_count": 59,
     "metadata": {},
     "output_type": "execute_result"
    }
   ],
   "source": [
    "affin=pd.read_csv('Afinn.csv',sep=',',encoding='latin-1')  #read affin dataset for sentiment analysis\n",
    "affin.shape"
   ]
  },
  {
   "cell_type": "code",
   "execution_count": 60,
   "metadata": {
    "ExecuteTime": {
     "end_time": "2021-01-28T06:03:25.965211Z",
     "start_time": "2021-01-28T06:03:25.933191Z"
    }
   },
   "outputs": [
    {
     "data": {
      "text/html": [
       "<div>\n",
       "<style scoped>\n",
       "    .dataframe tbody tr th:only-of-type {\n",
       "        vertical-align: middle;\n",
       "    }\n",
       "\n",
       "    .dataframe tbody tr th {\n",
       "        vertical-align: top;\n",
       "    }\n",
       "\n",
       "    .dataframe thead th {\n",
       "        text-align: right;\n",
       "    }\n",
       "</style>\n",
       "<table border=\"1\" class=\"dataframe\">\n",
       "  <thead>\n",
       "    <tr style=\"text-align: right;\">\n",
       "      <th></th>\n",
       "      <th>word</th>\n",
       "      <th>value</th>\n",
       "    </tr>\n",
       "  </thead>\n",
       "  <tbody>\n",
       "    <tr>\n",
       "      <th>0</th>\n",
       "      <td>abandon</td>\n",
       "      <td>-2</td>\n",
       "    </tr>\n",
       "    <tr>\n",
       "      <th>1</th>\n",
       "      <td>abandoned</td>\n",
       "      <td>-2</td>\n",
       "    </tr>\n",
       "    <tr>\n",
       "      <th>2</th>\n",
       "      <td>abandons</td>\n",
       "      <td>-2</td>\n",
       "    </tr>\n",
       "    <tr>\n",
       "      <th>3</th>\n",
       "      <td>abducted</td>\n",
       "      <td>-2</td>\n",
       "    </tr>\n",
       "    <tr>\n",
       "      <th>4</th>\n",
       "      <td>abduction</td>\n",
       "      <td>-2</td>\n",
       "    </tr>\n",
       "  </tbody>\n",
       "</table>\n",
       "</div>"
      ],
      "text/plain": [
       "        word  value\n",
       "0    abandon     -2\n",
       "1  abandoned     -2\n",
       "2   abandons     -2\n",
       "3   abducted     -2\n",
       "4  abduction     -2"
      ]
     },
     "execution_count": 60,
     "metadata": {},
     "output_type": "execute_result"
    }
   ],
   "source": [
    "affin.head()"
   ]
  },
  {
   "cell_type": "code",
   "execution_count": 61,
   "metadata": {
    "ExecuteTime": {
     "end_time": "2021-01-28T06:03:47.881989Z",
     "start_time": "2021-01-28T06:03:47.852179Z"
    }
   },
   "outputs": [
    {
     "data": {
      "text/html": [
       "<div>\n",
       "<style scoped>\n",
       "    .dataframe tbody tr th:only-of-type {\n",
       "        vertical-align: middle;\n",
       "    }\n",
       "\n",
       "    .dataframe tbody tr th {\n",
       "        vertical-align: top;\n",
       "    }\n",
       "\n",
       "    .dataframe thead th {\n",
       "        text-align: right;\n",
       "    }\n",
       "</style>\n",
       "<table border=\"1\" class=\"dataframe\">\n",
       "  <thead>\n",
       "    <tr style=\"text-align: right;\">\n",
       "      <th></th>\n",
       "      <th>word</th>\n",
       "      <th>value</th>\n",
       "    </tr>\n",
       "  </thead>\n",
       "  <tbody>\n",
       "    <tr>\n",
       "      <th>2472</th>\n",
       "      <td>yucky</td>\n",
       "      <td>-2</td>\n",
       "    </tr>\n",
       "    <tr>\n",
       "      <th>2473</th>\n",
       "      <td>yummy</td>\n",
       "      <td>3</td>\n",
       "    </tr>\n",
       "    <tr>\n",
       "      <th>2474</th>\n",
       "      <td>zealot</td>\n",
       "      <td>-2</td>\n",
       "    </tr>\n",
       "    <tr>\n",
       "      <th>2475</th>\n",
       "      <td>zealots</td>\n",
       "      <td>-2</td>\n",
       "    </tr>\n",
       "    <tr>\n",
       "      <th>2476</th>\n",
       "      <td>zealous</td>\n",
       "      <td>2</td>\n",
       "    </tr>\n",
       "  </tbody>\n",
       "</table>\n",
       "</div>"
      ],
      "text/plain": [
       "         word  value\n",
       "2472    yucky     -2\n",
       "2473    yummy      3\n",
       "2474   zealot     -2\n",
       "2475  zealots     -2\n",
       "2476  zealous      2"
      ]
     },
     "execution_count": 61,
     "metadata": {},
     "output_type": "execute_result"
    }
   ],
   "source": [
    "affin.tail()"
   ]
  },
  {
   "cell_type": "code",
   "execution_count": 62,
   "metadata": {
    "ExecuteTime": {
     "end_time": "2021-01-28T06:06:24.008287Z",
     "start_time": "2021-01-28T06:06:23.518086Z"
    }
   },
   "outputs": [
    {
     "data": {
      "text/plain": [
       "['Wish you good health, happiness and more hours at the crease 😃.',\n",
       " 'Have a great year ahead.',\n",
       " 'We do everything online today.',\n",
       " 'Why not football?',\n",
       " 'Sports &amp; learning should always continue, especially for children.… https://t.co/Vyyzeku3qC #one8blends - Your secret to confidence.',\n",
       " '👍\\nGet yours from the link below.',\n",
       " 'https://t.co/HTFOWXdC09\\n\\n@one8world… https://t.co/YK0BbmyyUz #100MillionHeroes 👏🏼 @HeroMotoCorp https://t.co/QK6IIVdki2 WHAT A WIN!!!',\n",
       " 'Yessssss.',\n",
       " 'To everyone who doubted us after Adelaide, stand up and take notice.',\n",
       " 'Exemplary performance… https://t.co/pz5JhDgamH @ThePropheC is at a whole different level altogether and Sardool Saab 🙏🏼👏🏼\\n\\nhttps://t.co/gv3h99ZjF7 Outstanding application and belief by @Sundarwashi5 and @imShard.',\n",
       " 'This is what test cricket is all about.',\n",
       " \"Washy top… https://t.co/qpVrsJgpVf Heartbroken to hear about the demise of Hardik and Krunal's dad.\",\n",
       " 'Spoke to him a couple of times, looked a joyful an… https://t.co/CQNzbSobUr ♥️ https://t.co/js3SkZJTsH The incident needs to be looked at with absolute urgency and seriousness and strict action against the offenders sh… https://t.co/N4YVk4nfKC Racial abuse is absolutely unacceptable.',\n",
       " 'Having gone through many incidents of really pathetic things said on the b… https://t.co/kQASx8FnoP Get the perfect boost of confidence with #one8fragrances\\nCheck them out now!',\n",
       " 'https://t.co/2xNh3SiVK4\\n@one8world… https://t.co/zZPpqoj0w9 Happy Birthday @therealkapildev 🎂.',\n",
       " 'Wishing you happy times ahead for you and your family.',\n",
       " 'Have a wonderful and a healthy year ahead.',\n",
       " '✌️😁 https://t.co/4aX9KYZjjv Praying for your speedy recovery.',\n",
       " 'Get well soon 🙏 @SGanguly99 Friends who test negative together spend positive time together!',\n",
       " '☺️ Nothing like a get together at home with friend… https://t.co/eTsnPUtG74 What a win this is, absolutely amazing effort by the whole team.']"
      ]
     },
     "execution_count": 62,
     "metadata": {},
     "output_type": "execute_result"
    }
   ],
   "source": [
    "from nltk import tokenize                         #tokenization of all the tweets\n",
    "sentences=tokenize.sent_tokenize(\" \".join(kohli))\n",
    "sentences[5:25]"
   ]
  },
  {
   "cell_type": "code",
   "execution_count": 63,
   "metadata": {
    "ExecuteTime": {
     "end_time": "2021-01-28T06:08:18.553539Z",
     "start_time": "2021-01-28T06:08:18.513541Z"
    }
   },
   "outputs": [
    {
     "data": {
      "text/html": [
       "<div>\n",
       "<style scoped>\n",
       "    .dataframe tbody tr th:only-of-type {\n",
       "        vertical-align: middle;\n",
       "    }\n",
       "\n",
       "    .dataframe tbody tr th {\n",
       "        vertical-align: top;\n",
       "    }\n",
       "\n",
       "    .dataframe thead th {\n",
       "        text-align: right;\n",
       "    }\n",
       "</style>\n",
       "<table border=\"1\" class=\"dataframe\">\n",
       "  <thead>\n",
       "    <tr style=\"text-align: right;\">\n",
       "      <th></th>\n",
       "      <th>sentence</th>\n",
       "    </tr>\n",
       "  </thead>\n",
       "  <tbody>\n",
       "    <tr>\n",
       "      <th>0</th>\n",
       "      <td>The future depends on what we do today.</td>\n",
       "    </tr>\n",
       "    <tr>\n",
       "      <th>1</th>\n",
       "      <td>Let's be the strength of our nation and help i...</td>\n",
       "    </tr>\n",
       "    <tr>\n",
       "      <th>2</th>\n",
       "      <td>Wish… https://t.co/myYv4wT9xZ Teamed up with @...</td>\n",
       "    </tr>\n",
       "    <tr>\n",
       "      <th>3</th>\n",
       "      <td>Light shoes, heavy work.</td>\n",
       "    </tr>\n",
       "    <tr>\n",
       "      <th>4</th>\n",
       "      <td>@PUMA Fuse… https://t.co/rlOOD1nktl Happy birt...</td>\n",
       "    </tr>\n",
       "    <tr>\n",
       "      <th>...</th>\n",
       "      <td>...</td>\n",
       "    </tr>\n",
       "    <tr>\n",
       "      <th>2588</th>\n",
       "      <td>Thank you all for the wishes !!!!</td>\n",
       "    </tr>\n",
       "    <tr>\n",
       "      <th>2589</th>\n",
       "      <td>@yuvsingh09 Hello Mr.Bond \\nwatched it you wer...</td>\n",
       "    </tr>\n",
       "    <tr>\n",
       "      <th>2590</th>\n",
       "      <td>@hulk7174 ??????</td>\n",
       "    </tr>\n",
       "    <tr>\n",
       "      <th>2591</th>\n",
       "      <td>Time for Training.... Will be heading to SriLa...</td>\n",
       "    </tr>\n",
       "    <tr>\n",
       "      <th>2592</th>\n",
       "      <td>@yuvsingh09 Aiieeeeeee me too me too</td>\n",
       "    </tr>\n",
       "  </tbody>\n",
       "</table>\n",
       "<p>2593 rows × 1 columns</p>\n",
       "</div>"
      ],
      "text/plain": [
       "                                               sentence\n",
       "0               The future depends on what we do today.\n",
       "1     Let's be the strength of our nation and help i...\n",
       "2     Wish… https://t.co/myYv4wT9xZ Teamed up with @...\n",
       "3                              Light shoes, heavy work.\n",
       "4     @PUMA Fuse… https://t.co/rlOOD1nktl Happy birt...\n",
       "...                                                 ...\n",
       "2588                  Thank you all for the wishes !!!!\n",
       "2589  @yuvsingh09 Hello Mr.Bond \\nwatched it you wer...\n",
       "2590                                   @hulk7174 ??????\n",
       "2591  Time for Training.... Will be heading to SriLa...\n",
       "2592               @yuvsingh09 Aiieeeeeee me too me too\n",
       "\n",
       "[2593 rows x 1 columns]"
      ]
     },
     "execution_count": 63,
     "metadata": {},
     "output_type": "execute_result"
    }
   ],
   "source": [
    "sent_df=pd.DataFrame(sentences,columns=['sentence'])\n",
    "sent_df"
   ]
  },
  {
   "cell_type": "code",
   "execution_count": 68,
   "metadata": {
    "ExecuteTime": {
     "end_time": "2021-01-28T06:15:02.445428Z",
     "start_time": "2021-01-28T06:15:02.421424Z"
    }
   },
   "outputs": [],
   "source": [
    "affinity_scores=affin.set_index('word')['value'].to_dict()"
   ]
  },
  {
   "cell_type": "code",
   "execution_count": 69,
   "metadata": {
    "ExecuteTime": {
     "end_time": "2021-01-28T06:21:13.809241Z",
     "start_time": "2021-01-28T06:21:12.254023Z"
    }
   },
   "outputs": [],
   "source": [
    "nlp=spacy.load(\"en_core_web_sm\") #Custom function :score each word in a sentence in lemmatised form, \n",
    "sentiment_lexicon=affinity_scores  #but calculate the score for the whole original sentence.\n",
    "\n",
    "def calculate_sentiment(text: str=None):\n",
    "    sent_score=0\n",
    "    if text:\n",
    "        sentence=nlp(text)\n",
    "        for word in sentence:\n",
    "            sent_score+=sentiment_lexicon.get(word.lemma_,0)\n",
    "            return sent_score"
   ]
  },
  {
   "cell_type": "code",
   "execution_count": 70,
   "metadata": {
    "ExecuteTime": {
     "end_time": "2021-01-28T06:22:35.424987Z",
     "start_time": "2021-01-28T06:22:35.384989Z"
    }
   },
   "outputs": [
    {
     "data": {
      "text/plain": [
       "4"
      ]
     },
     "execution_count": 70,
     "metadata": {},
     "output_type": "execute_result"
    }
   ],
   "source": [
    "calculate_sentiment(text= 'fantastic')  #testing of custom function to know whether it works or not"
   ]
  },
  {
   "cell_type": "code",
   "execution_count": 72,
   "metadata": {
    "ExecuteTime": {
     "end_time": "2021-01-28T06:25:36.420262Z",
     "start_time": "2021-01-28T06:24:54.283890Z"
    }
   },
   "outputs": [],
   "source": [
    "sent_df['sentiment_value']=sent_df['sentence'].apply(calculate_sentiment)"
   ]
  },
  {
   "cell_type": "code",
   "execution_count": 73,
   "metadata": {
    "ExecuteTime": {
     "end_time": "2021-01-28T06:27:48.176787Z",
     "start_time": "2021-01-28T06:27:48.119993Z"
    }
   },
   "outputs": [
    {
     "data": {
      "text/plain": [
       "0     8\n",
       "1    13\n",
       "2    13\n",
       "3     4\n",
       "4     7\n",
       "5    12\n",
       "6     5\n",
       "7     5\n",
       "8     3\n",
       "9    16\n",
       "Name: word_count, dtype: int64"
      ]
     },
     "execution_count": 73,
     "metadata": {},
     "output_type": "execute_result"
    }
   ],
   "source": [
    "sent_df['word_count']=sent_df['sentence'].str.split().apply(len)  #to know the length of words in tweets\n",
    "sent_df['word_count'].head(10)"
   ]
  },
  {
   "cell_type": "code",
   "execution_count": 74,
   "metadata": {
    "ExecuteTime": {
     "end_time": "2021-01-28T06:28:13.750629Z",
     "start_time": "2021-01-28T06:28:13.718631Z"
    }
   },
   "outputs": [
    {
     "data": {
      "text/html": [
       "<div>\n",
       "<style scoped>\n",
       "    .dataframe tbody tr th:only-of-type {\n",
       "        vertical-align: middle;\n",
       "    }\n",
       "\n",
       "    .dataframe tbody tr th {\n",
       "        vertical-align: top;\n",
       "    }\n",
       "\n",
       "    .dataframe thead th {\n",
       "        text-align: right;\n",
       "    }\n",
       "</style>\n",
       "<table border=\"1\" class=\"dataframe\">\n",
       "  <thead>\n",
       "    <tr style=\"text-align: right;\">\n",
       "      <th></th>\n",
       "      <th>sentence</th>\n",
       "      <th>sentiment_value</th>\n",
       "      <th>word_count</th>\n",
       "    </tr>\n",
       "  </thead>\n",
       "  <tbody>\n",
       "    <tr>\n",
       "      <th>0</th>\n",
       "      <td>The future depends on what we do today.</td>\n",
       "      <td>0</td>\n",
       "      <td>8</td>\n",
       "    </tr>\n",
       "    <tr>\n",
       "      <th>1</th>\n",
       "      <td>Let's be the strength of our nation and help i...</td>\n",
       "      <td>0</td>\n",
       "      <td>13</td>\n",
       "    </tr>\n",
       "    <tr>\n",
       "      <th>2</th>\n",
       "      <td>Wish… https://t.co/myYv4wT9xZ Teamed up with @...</td>\n",
       "      <td>1</td>\n",
       "      <td>13</td>\n",
       "    </tr>\n",
       "    <tr>\n",
       "      <th>3</th>\n",
       "      <td>Light shoes, heavy work.</td>\n",
       "      <td>0</td>\n",
       "      <td>4</td>\n",
       "    </tr>\n",
       "    <tr>\n",
       "      <th>4</th>\n",
       "      <td>@PUMA Fuse… https://t.co/rlOOD1nktl Happy birt...</td>\n",
       "      <td>0</td>\n",
       "      <td>7</td>\n",
       "    </tr>\n",
       "    <tr>\n",
       "      <th>...</th>\n",
       "      <td>...</td>\n",
       "      <td>...</td>\n",
       "      <td>...</td>\n",
       "    </tr>\n",
       "    <tr>\n",
       "      <th>2588</th>\n",
       "      <td>Thank you all for the wishes !!!!</td>\n",
       "      <td>2</td>\n",
       "      <td>7</td>\n",
       "    </tr>\n",
       "    <tr>\n",
       "      <th>2589</th>\n",
       "      <td>@yuvsingh09 Hello Mr.Bond \\nwatched it you wer...</td>\n",
       "      <td>0</td>\n",
       "      <td>11</td>\n",
       "    </tr>\n",
       "    <tr>\n",
       "      <th>2590</th>\n",
       "      <td>@hulk7174 ??????</td>\n",
       "      <td>0</td>\n",
       "      <td>2</td>\n",
       "    </tr>\n",
       "    <tr>\n",
       "      <th>2591</th>\n",
       "      <td>Time for Training.... Will be heading to SriLa...</td>\n",
       "      <td>0</td>\n",
       "      <td>10</td>\n",
       "    </tr>\n",
       "    <tr>\n",
       "      <th>2592</th>\n",
       "      <td>@yuvsingh09 Aiieeeeeee me too me too</td>\n",
       "      <td>0</td>\n",
       "      <td>6</td>\n",
       "    </tr>\n",
       "  </tbody>\n",
       "</table>\n",
       "<p>2593 rows × 3 columns</p>\n",
       "</div>"
      ],
      "text/plain": [
       "                                               sentence  sentiment_value  \\\n",
       "0               The future depends on what we do today.                0   \n",
       "1     Let's be the strength of our nation and help i...                0   \n",
       "2     Wish… https://t.co/myYv4wT9xZ Teamed up with @...                1   \n",
       "3                              Light shoes, heavy work.                0   \n",
       "4     @PUMA Fuse… https://t.co/rlOOD1nktl Happy birt...                0   \n",
       "...                                                 ...              ...   \n",
       "2588                  Thank you all for the wishes !!!!                2   \n",
       "2589  @yuvsingh09 Hello Mr.Bond \\nwatched it you wer...                0   \n",
       "2590                                   @hulk7174 ??????                0   \n",
       "2591  Time for Training.... Will be heading to SriLa...                0   \n",
       "2592               @yuvsingh09 Aiieeeeeee me too me too                0   \n",
       "\n",
       "      word_count  \n",
       "0              8  \n",
       "1             13  \n",
       "2             13  \n",
       "3              4  \n",
       "4              7  \n",
       "...          ...  \n",
       "2588           7  \n",
       "2589          11  \n",
       "2590           2  \n",
       "2591          10  \n",
       "2592           6  \n",
       "\n",
       "[2593 rows x 3 columns]"
      ]
     },
     "execution_count": 74,
     "metadata": {},
     "output_type": "execute_result"
    }
   ],
   "source": [
    "sent_df"
   ]
  },
  {
   "cell_type": "code",
   "execution_count": 75,
   "metadata": {
    "ExecuteTime": {
     "end_time": "2021-01-28T06:29:52.732142Z",
     "start_time": "2021-01-28T06:29:52.701126Z"
    }
   },
   "outputs": [
    {
     "data": {
      "text/html": [
       "<div>\n",
       "<style scoped>\n",
       "    .dataframe tbody tr th:only-of-type {\n",
       "        vertical-align: middle;\n",
       "    }\n",
       "\n",
       "    .dataframe tbody tr th {\n",
       "        vertical-align: top;\n",
       "    }\n",
       "\n",
       "    .dataframe thead th {\n",
       "        text-align: right;\n",
       "    }\n",
       "</style>\n",
       "<table border=\"1\" class=\"dataframe\">\n",
       "  <thead>\n",
       "    <tr style=\"text-align: right;\">\n",
       "      <th></th>\n",
       "      <th>sentence</th>\n",
       "      <th>sentiment_value</th>\n",
       "      <th>word_count</th>\n",
       "    </tr>\n",
       "  </thead>\n",
       "  <tbody>\n",
       "    <tr>\n",
       "      <th>1904</th>\n",
       "      <td>Horrible day for cricket.</td>\n",
       "      <td>-3</td>\n",
       "      <td>4</td>\n",
       "    </tr>\n",
       "    <tr>\n",
       "      <th>2270</th>\n",
       "      <td>worst thing to have happened i still cannot be...</td>\n",
       "      <td>-3</td>\n",
       "      <td>10</td>\n",
       "    </tr>\n",
       "    <tr>\n",
       "      <th>2436</th>\n",
       "      <td>bloody hot today.</td>\n",
       "      <td>-3</td>\n",
       "      <td>3</td>\n",
       "    </tr>\n",
       "    <tr>\n",
       "      <th>2460</th>\n",
       "      <td>hate these kind of acts by stupid people.</td>\n",
       "      <td>-3</td>\n",
       "      <td>8</td>\n",
       "    </tr>\n",
       "    <tr>\n",
       "      <th>1354</th>\n",
       "      <td>Crazy how quickly kids evolve 💜💜 \\n#TimeToFly ...</td>\n",
       "      <td>-2</td>\n",
       "      <td>19</td>\n",
       "    </tr>\n",
       "    <tr>\n",
       "      <th>159</th>\n",
       "      <td>Saddened to hear about the passing of Shri Pra...</td>\n",
       "      <td>-2</td>\n",
       "      <td>10</td>\n",
       "    </tr>\n",
       "    <tr>\n",
       "      <th>2562</th>\n",
       "      <td>Missed you guys.. Hope everyone is doing well..</td>\n",
       "      <td>-2</td>\n",
       "      <td>8</td>\n",
       "    </tr>\n",
       "    <tr>\n",
       "      <th>984</th>\n",
       "      <td>Fear not, here’s the link!</td>\n",
       "      <td>-2</td>\n",
       "      <td>5</td>\n",
       "    </tr>\n",
       "    <tr>\n",
       "      <th>95</th>\n",
       "      <td>Crazy deals on @Flipkart #BigBillionDays!</td>\n",
       "      <td>-2</td>\n",
       "      <td>5</td>\n",
       "    </tr>\n",
       "    <tr>\n",
       "      <th>2488</th>\n",
       "      <td>miss the ipl times.</td>\n",
       "      <td>-2</td>\n",
       "      <td>4</td>\n",
       "    </tr>\n",
       "    <tr>\n",
       "      <th>762</th>\n",
       "      <td>Shame.</td>\n",
       "      <td>-2</td>\n",
       "      <td>1</td>\n",
       "    </tr>\n",
       "    <tr>\n",
       "      <th>2245</th>\n",
       "      <td>Sad news for the cricket world.</td>\n",
       "      <td>-2</td>\n",
       "      <td>6</td>\n",
       "    </tr>\n",
       "    <tr>\n",
       "      <th>2289</th>\n",
       "      <td>Shocked to hear mr Yash chopra is no more.</td>\n",
       "      <td>-2</td>\n",
       "      <td>9</td>\n",
       "    </tr>\n",
       "    <tr>\n",
       "      <th>277</th>\n",
       "      <td>No panic buying please.</td>\n",
       "      <td>-1</td>\n",
       "      <td>4</td>\n",
       "    </tr>\n",
       "    <tr>\n",
       "      <th>1193</th>\n",
       "      <td>Sorry we couldn't play up to our standards.</td>\n",
       "      <td>-1</td>\n",
       "      <td>8</td>\n",
       "    </tr>\n",
       "    <tr>\n",
       "      <th>1968</th>\n",
       "      <td>No place like home.</td>\n",
       "      <td>-1</td>\n",
       "      <td>4</td>\n",
       "    </tr>\n",
       "    <tr>\n",
       "      <th>1456</th>\n",
       "      <td>Unbelievable, This actually just happened @Sta...</td>\n",
       "      <td>-1</td>\n",
       "      <td>14</td>\n",
       "    </tr>\n",
       "    <tr>\n",
       "      <th>2261</th>\n",
       "      <td>Sorry for not replying to tweets.</td>\n",
       "      <td>-1</td>\n",
       "      <td>6</td>\n",
       "    </tr>\n",
       "    <tr>\n",
       "      <th>2262</th>\n",
       "      <td>Hard to reply to so many.</td>\n",
       "      <td>-1</td>\n",
       "      <td>6</td>\n",
       "    </tr>\n",
       "    <tr>\n",
       "      <th>1047</th>\n",
       "      <td>No one has captivated me with their voice like...</td>\n",
       "      <td>-1</td>\n",
       "      <td>11</td>\n",
       "    </tr>\n",
       "  </tbody>\n",
       "</table>\n",
       "</div>"
      ],
      "text/plain": [
       "                                               sentence  sentiment_value  \\\n",
       "1904                          Horrible day for cricket.               -3   \n",
       "2270  worst thing to have happened i still cannot be...               -3   \n",
       "2436                                  bloody hot today.               -3   \n",
       "2460          hate these kind of acts by stupid people.               -3   \n",
       "1354  Crazy how quickly kids evolve 💜💜 \\n#TimeToFly ...               -2   \n",
       "159   Saddened to hear about the passing of Shri Pra...               -2   \n",
       "2562    Missed you guys.. Hope everyone is doing well..               -2   \n",
       "984                          Fear not, here’s the link!               -2   \n",
       "95            Crazy deals on @Flipkart #BigBillionDays!               -2   \n",
       "2488                                miss the ipl times.               -2   \n",
       "762                                              Shame.               -2   \n",
       "2245                    Sad news for the cricket world.               -2   \n",
       "2289         Shocked to hear mr Yash chopra is no more.               -2   \n",
       "277                             No panic buying please.               -1   \n",
       "1193        Sorry we couldn't play up to our standards.               -1   \n",
       "1968                                No place like home.               -1   \n",
       "1456  Unbelievable, This actually just happened @Sta...               -1   \n",
       "2261                  Sorry for not replying to tweets.               -1   \n",
       "2262                          Hard to reply to so many.               -1   \n",
       "1047  No one has captivated me with their voice like...               -1   \n",
       "\n",
       "      word_count  \n",
       "1904           4  \n",
       "2270          10  \n",
       "2436           3  \n",
       "2460           8  \n",
       "1354          19  \n",
       "159           10  \n",
       "2562           8  \n",
       "984            5  \n",
       "95             5  \n",
       "2488           4  \n",
       "762            1  \n",
       "2245           6  \n",
       "2289           9  \n",
       "277            4  \n",
       "1193           8  \n",
       "1968           4  \n",
       "1456          14  \n",
       "2261           6  \n",
       "2262           6  \n",
       "1047          11  "
      ]
     },
     "execution_count": 75,
     "metadata": {},
     "output_type": "execute_result"
    }
   ],
   "source": [
    "sent_df.sort_values(by='sentiment_value').head(20)"
   ]
  },
  {
   "cell_type": "code",
   "execution_count": 76,
   "metadata": {
    "ExecuteTime": {
     "end_time": "2021-01-28T06:31:09.776532Z",
     "start_time": "2021-01-28T06:31:09.551680Z"
    }
   },
   "outputs": [
    {
     "data": {
      "text/plain": [
       "count    2593.000000\n",
       "mean        0.311608\n",
       "std         0.893698\n",
       "min        -3.000000\n",
       "25%         0.000000\n",
       "50%         0.000000\n",
       "75%         0.000000\n",
       "max         5.000000\n",
       "Name: sentiment_value, dtype: float64"
      ]
     },
     "execution_count": 76,
     "metadata": {},
     "output_type": "execute_result"
    }
   ],
   "source": [
    "sent_df['sentiment_value'].describe()"
   ]
  },
  {
   "cell_type": "code",
   "execution_count": 87,
   "metadata": {
    "ExecuteTime": {
     "end_time": "2021-01-28T06:35:12.939551Z",
     "start_time": "2021-01-28T06:35:12.915530Z"
    }
   },
   "outputs": [
    {
     "data": {
      "text/html": [
       "<div>\n",
       "<style scoped>\n",
       "    .dataframe tbody tr th:only-of-type {\n",
       "        vertical-align: middle;\n",
       "    }\n",
       "\n",
       "    .dataframe tbody tr th {\n",
       "        vertical-align: top;\n",
       "    }\n",
       "\n",
       "    .dataframe thead th {\n",
       "        text-align: right;\n",
       "    }\n",
       "</style>\n",
       "<table border=\"1\" class=\"dataframe\">\n",
       "  <thead>\n",
       "    <tr style=\"text-align: right;\">\n",
       "      <th></th>\n",
       "      <th>sentence</th>\n",
       "      <th>sentiment_value</th>\n",
       "      <th>word_count</th>\n",
       "    </tr>\n",
       "  </thead>\n",
       "  <tbody>\n",
       "    <tr>\n",
       "      <th>0</th>\n",
       "      <td>The future depends on what we do today.</td>\n",
       "      <td>0</td>\n",
       "      <td>8</td>\n",
       "    </tr>\n",
       "    <tr>\n",
       "      <th>1</th>\n",
       "      <td>Let's be the strength of our nation and help i...</td>\n",
       "      <td>0</td>\n",
       "      <td>13</td>\n",
       "    </tr>\n",
       "    <tr>\n",
       "      <th>3</th>\n",
       "      <td>Light shoes, heavy work.</td>\n",
       "      <td>0</td>\n",
       "      <td>4</td>\n",
       "    </tr>\n",
       "    <tr>\n",
       "      <th>4</th>\n",
       "      <td>@PUMA Fuse… https://t.co/rlOOD1nktl Happy birt...</td>\n",
       "      <td>0</td>\n",
       "      <td>7</td>\n",
       "    </tr>\n",
       "    <tr>\n",
       "      <th>6</th>\n",
       "      <td>Have a great year ahead.</td>\n",
       "      <td>0</td>\n",
       "      <td>5</td>\n",
       "    </tr>\n",
       "  </tbody>\n",
       "</table>\n",
       "</div>"
      ],
      "text/plain": [
       "                                            sentence  sentiment_value  \\\n",
       "0            The future depends on what we do today.                0   \n",
       "1  Let's be the strength of our nation and help i...                0   \n",
       "3                           Light shoes, heavy work.                0   \n",
       "4  @PUMA Fuse… https://t.co/rlOOD1nktl Happy birt...                0   \n",
       "6                           Have a great year ahead.                0   \n",
       "\n",
       "   word_count  \n",
       "0           8  \n",
       "1          13  \n",
       "3           4  \n",
       "4           7  \n",
       "6           5  "
      ]
     },
     "execution_count": 87,
     "metadata": {},
     "output_type": "execute_result"
    }
   ],
   "source": [
    "sent_df[sent_df['sentiment_value']<=0].head()"
   ]
  },
  {
   "cell_type": "code",
   "execution_count": 90,
   "metadata": {
    "ExecuteTime": {
     "end_time": "2021-01-28T06:36:15.913085Z",
     "start_time": "2021-01-28T06:36:15.889079Z"
    }
   },
   "outputs": [
    {
     "data": {
      "text/html": [
       "<div>\n",
       "<style scoped>\n",
       "    .dataframe tbody tr th:only-of-type {\n",
       "        vertical-align: middle;\n",
       "    }\n",
       "\n",
       "    .dataframe tbody tr th {\n",
       "        vertical-align: top;\n",
       "    }\n",
       "\n",
       "    .dataframe thead th {\n",
       "        text-align: right;\n",
       "    }\n",
       "</style>\n",
       "<table border=\"1\" class=\"dataframe\">\n",
       "  <thead>\n",
       "    <tr style=\"text-align: right;\">\n",
       "      <th></th>\n",
       "      <th>sentence</th>\n",
       "      <th>sentiment_value</th>\n",
       "      <th>word_count</th>\n",
       "    </tr>\n",
       "  </thead>\n",
       "  <tbody>\n",
       "    <tr>\n",
       "      <th>1248</th>\n",
       "      <td>Outstanding effort to win this game &amp;amp; the ...</td>\n",
       "      <td>5</td>\n",
       "      <td>9</td>\n",
       "    </tr>\n",
       "    <tr>\n",
       "      <th>1779</th>\n",
       "      <td>Superb display by @FCGoaOfficial today!</td>\n",
       "      <td>5</td>\n",
       "      <td>5</td>\n",
       "    </tr>\n",
       "  </tbody>\n",
       "</table>\n",
       "</div>"
      ],
      "text/plain": [
       "                                               sentence  sentiment_value  \\\n",
       "1248  Outstanding effort to win this game &amp; the ...                5   \n",
       "1779            Superb display by @FCGoaOfficial today!                5   \n",
       "\n",
       "      word_count  \n",
       "1248           9  \n",
       "1779           5  "
      ]
     },
     "execution_count": 90,
     "metadata": {},
     "output_type": "execute_result"
    }
   ],
   "source": [
    "sent_df[sent_df['sentiment_value']>=5].head()"
   ]
  },
  {
   "cell_type": "code",
   "execution_count": 91,
   "metadata": {
    "ExecuteTime": {
     "end_time": "2021-01-28T06:37:11.742097Z",
     "start_time": "2021-01-28T06:37:11.726094Z"
    }
   },
   "outputs": [],
   "source": [
    "sent_df['index']=range(0,len(sent_df))"
   ]
  },
  {
   "cell_type": "code",
   "execution_count": 92,
   "metadata": {
    "ExecuteTime": {
     "end_time": "2021-01-28T06:38:51.175978Z",
     "start_time": "2021-01-28T06:38:48.301687Z"
    }
   },
   "outputs": [
    {
     "name": "stderr",
     "output_type": "stream",
     "text": [
      "C:\\Users\\ADMIN\\anaconda3\\lib\\site-packages\\seaborn\\distributions.py:369: UserWarning: Default bandwidth for data is 0; skipping density estimation.\n",
      "  warnings.warn(msg, UserWarning)\n"
     ]
    },
    {
     "data": {
      "text/plain": [
       "<matplotlib.axes._subplots.AxesSubplot at 0x22bcd6418e0>"
      ]
     },
     "execution_count": 92,
     "metadata": {},
     "output_type": "execute_result"
    },
    {
     "data": {
      "image/png": "[encoded data removed]",
      "text/plain": [
       "<Figure size 432x288 with 1 Axes>"
      ]
     },
     "metadata": {
      "needs_background": "light"
     },
     "output_type": "display_data"
    }
   ],
   "source": [
    "import seaborn as sns\n",
    "import matplotlib.pyplot as plt\n",
    "sns.distplot(sent_df['sentiment_value'])"
   ]
  },
  {
   "cell_type": "code",
   "execution_count": 94,
   "metadata": {
    "ExecuteTime": {
     "end_time": "2021-01-28T06:42:02.951342Z",
     "start_time": "2021-01-28T06:42:01.763983Z"
    }
   },
   "outputs": [
    {
     "data": {
      "text/plain": [
       "<matplotlib.axes._subplots.AxesSubplot at 0x22bccbb48b0>"
      ]
     },
     "execution_count": 94,
     "metadata": {},
     "output_type": "execute_result"
    },
    {
     "data": {
      "image/png": "[encoded data removed]",
      "text/plain": [
       "<Figure size 1080x720 with 1 Axes>"
      ]
     },
     "metadata": {
      "needs_background": "light"
     },
     "output_type": "display_data"
    }
   ],
   "source": [
    "plt.figure(figsize=(15,10))\n",
    "sns.lineplot(y='sentiment_value',x='index',data=sent_df)"
   ]
  },
  {
   "cell_type": "code",
   "execution_count": 96,
   "metadata": {
    "ExecuteTime": {
     "end_time": "2021-01-28T06:45:26.411089Z",
     "start_time": "2021-01-28T06:45:26.072386Z"
    }
   },
   "outputs": [
    {
     "data": {
      "text/plain": [
       "<matplotlib.axes._subplots.AxesSubplot at 0x22bcc7f6970>"
      ]
     },
     "execution_count": 96,
     "metadata": {},
     "output_type": "execute_result"
    },
    {
     "data": {
      "image/png": "[encoded data removed]",
      "text/plain": [
       "<Figure size 720x720 with 1 Axes>"
      ]
     },
     "metadata": {
      "needs_background": "light"
     },
     "output_type": "display_data"
    }
   ],
   "source": [
    "sent_df.plot.scatter(x='word_count',y='sentiment_value',figsize=(10,10),title='sentence sentiment value to word count')"
   ]
  }
 ],
 "metadata": {
  "kernelspec": {
   "display_name": "Python 3",
   "language": "python",
   "name": "python3"
  },
  "language_info": {
   "codemirror_mode": {
    "name": "ipython",
    "version": 3
   },
   "file_extension": ".py",
   "mimetype": "text/x-python",
   "name": "python",
   "nbconvert_exporter": "python",
   "pygments_lexer": "ipython3",
   "version": "3.8.3"
  },
  "toc": {
   "base_numbering": 1,
   "nav_menu": {},
   "number_sections": true,
   "sideBar": true,
   "skip_h1_title": false,
   "title_cell": "Table of Contents",
   "title_sidebar": "Contents",
   "toc_cell": false,
   "toc_position": {},
   "toc_section_display": true,
   "toc_window_display": false
  },
  "varInspector": {
   "cols": {
    "lenName": 16,
    "lenType": 16,
    "lenVar": 40
   },
   "kernels_config": {
    "python": {
     "delete_cmd_postfix": "",
     "delete_cmd_prefix": "del ",
     "library": "var_list.py",
     "varRefreshCmd": "print(var_dic_list())"
    },
    "r": {
     "delete_cmd_postfix": ") ",
     "delete_cmd_prefix": "rm(",
     "library": "var_list.r",
     "varRefreshCmd": "cat(var_dic_list()) "
    }
   },
   "types_to_exclude": [
    "module",
    "function",
    "builtin_function_or_method",
    "instance",
    "_Feature"
   ],
   "window_display": false
  }
 },
 "nbformat": 4,
 "nbformat_minor": 2
}
